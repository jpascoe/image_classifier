{
 "cells": [
  {
   "cell_type": "code",
   "execution_count": 21,
   "metadata": {
    "collapsed": true
   },
   "outputs": [
    {
     "name": "stdout",
     "output_type": "stream",
     "text": [
      "\u001B[33mDEPRECATION: Configuring installation scheme with distutils config files is deprecated and will no longer work in the near future. If you are using a Homebrew or Linuxbrew Python, please see discussion at https://github.com/Homebrew/homebrew-core/issues/76621\u001B[0m\u001B[33m\r\n",
      "\u001B[0mRequirement already satisfied: fastai in /usr/local/lib/python3.9/site-packages (2.5.3)\r\n",
      "Requirement already satisfied: fastcore in /usr/local/lib/python3.9/site-packages (1.3.29)\r\n",
      "Requirement already satisfied: fastdownload in /usr/local/lib/python3.9/site-packages (0.0.5)\r\n",
      "Requirement already satisfied: Pillow in /usr/local/lib/python3.9/site-packages (9.0.1)\r\n",
      "Requirement already satisfied: boto in /usr/local/lib/python3.9/site-packages (2.49.0)\r\n",
      "Requirement already satisfied: scipy in /usr/local/lib/python3.9/site-packages (from fastai) (1.8.0)\r\n",
      "Requirement already satisfied: matplotlib in /usr/local/lib/python3.9/site-packages (from fastai) (3.5.1)\r\n",
      "Requirement already satisfied: torch<1.11,>=1.7.0 in /usr/local/lib/python3.9/site-packages (from fastai) (1.10.2)\r\n",
      "Requirement already satisfied: requests in /usr/local/lib/python3.9/site-packages (from fastai) (2.27.1)\r\n",
      "Requirement already satisfied: pyyaml in /usr/local/lib/python3.9/site-packages (from fastai) (6.0)\r\n",
      "Requirement already satisfied: pip in /usr/local/lib/python3.9/site-packages (from fastai) (22.0.4)\r\n",
      "Requirement already satisfied: torchvision>=0.8.2 in /usr/local/lib/python3.9/site-packages (from fastai) (0.11.3)\r\n",
      "Requirement already satisfied: spacy<4 in /usr/local/lib/python3.9/site-packages (from fastai) (3.2.3)\r\n",
      "Requirement already satisfied: scikit-learn in /usr/local/lib/python3.9/site-packages (from fastai) (1.0.2)\r\n",
      "Requirement already satisfied: packaging in /usr/local/lib/python3.9/site-packages (from fastai) (21.3)\r\n",
      "Requirement already satisfied: pandas in /usr/local/lib/python3.9/site-packages (from fastai) (1.4.1)\r\n",
      "Requirement already satisfied: fastprogress>=0.2.4 in /usr/local/lib/python3.9/site-packages (from fastai) (1.0.2)\r\n",
      "Requirement already satisfied: pathy>=0.3.5 in /usr/local/lib/python3.9/site-packages (from spacy<4->fastai) (0.6.1)\r\n",
      "Requirement already satisfied: numpy>=1.15.0 in /usr/local/lib/python3.9/site-packages (from spacy<4->fastai) (1.22.3)\r\n",
      "Requirement already satisfied: blis<0.8.0,>=0.4.0 in /usr/local/lib/python3.9/site-packages (from spacy<4->fastai) (0.7.6)\r\n",
      "Requirement already satisfied: murmurhash<1.1.0,>=0.28.0 in /usr/local/lib/python3.9/site-packages (from spacy<4->fastai) (1.0.6)\r\n",
      "Requirement already satisfied: setuptools in /usr/local/lib/python3.9/site-packages (from spacy<4->fastai) (60.5.0)\r\n",
      "Requirement already satisfied: spacy-legacy<3.1.0,>=3.0.8 in /usr/local/lib/python3.9/site-packages (from spacy<4->fastai) (3.0.9)\r\n",
      "Requirement already satisfied: catalogue<2.1.0,>=2.0.6 in /usr/local/lib/python3.9/site-packages (from spacy<4->fastai) (2.0.6)\r\n",
      "Requirement already satisfied: srsly<3.0.0,>=2.4.1 in /usr/local/lib/python3.9/site-packages (from spacy<4->fastai) (2.4.2)\r\n",
      "Requirement already satisfied: pydantic!=1.8,!=1.8.1,<1.9.0,>=1.7.4 in /usr/local/lib/python3.9/site-packages (from spacy<4->fastai) (1.8.2)\r\n",
      "Requirement already satisfied: tqdm<5.0.0,>=4.38.0 in /usr/local/lib/python3.9/site-packages (from spacy<4->fastai) (4.63.0)\r\n",
      "Requirement already satisfied: cymem<2.1.0,>=2.0.2 in /usr/local/lib/python3.9/site-packages (from spacy<4->fastai) (2.0.6)\r\n",
      "Requirement already satisfied: wasabi<1.1.0,>=0.8.1 in /usr/local/lib/python3.9/site-packages (from spacy<4->fastai) (0.9.0)\r\n",
      "Requirement already satisfied: preshed<3.1.0,>=3.0.2 in /usr/local/lib/python3.9/site-packages (from spacy<4->fastai) (3.0.6)\r\n",
      "Requirement already satisfied: typer<0.5.0,>=0.3.0 in /usr/local/lib/python3.9/site-packages (from spacy<4->fastai) (0.4.0)\r\n",
      "Requirement already satisfied: spacy-loggers<2.0.0,>=1.0.0 in /usr/local/lib/python3.9/site-packages (from spacy<4->fastai) (1.0.1)\r\n",
      "Requirement already satisfied: langcodes<4.0.0,>=3.2.0 in /usr/local/lib/python3.9/site-packages (from spacy<4->fastai) (3.3.0)\r\n",
      "Requirement already satisfied: jinja2 in /usr/local/lib/python3.9/site-packages (from spacy<4->fastai) (3.0.3)\r\n",
      "Requirement already satisfied: thinc<8.1.0,>=8.0.12 in /usr/local/lib/python3.9/site-packages (from spacy<4->fastai) (8.0.15)\r\n",
      "Requirement already satisfied: pyparsing!=3.0.5,>=2.0.2 in /usr/local/lib/python3.9/site-packages (from packaging->fastai) (3.0.7)\r\n",
      "Requirement already satisfied: idna<4,>=2.5 in /usr/local/lib/python3.9/site-packages (from requests->fastai) (3.3)\r\n",
      "Requirement already satisfied: certifi>=2017.4.17 in /usr/local/lib/python3.9/site-packages (from requests->fastai) (2021.10.8)\r\n",
      "Requirement already satisfied: urllib3<1.27,>=1.21.1 in /usr/local/lib/python3.9/site-packages (from requests->fastai) (1.26.8)\r\n",
      "Requirement already satisfied: charset-normalizer~=2.0.0 in /usr/local/lib/python3.9/site-packages (from requests->fastai) (2.0.10)\r\n",
      "Requirement already satisfied: typing-extensions in /usr/local/lib/python3.9/site-packages (from torch<1.11,>=1.7.0->fastai) (4.1.1)\r\n",
      "Requirement already satisfied: cycler>=0.10 in /usr/local/lib/python3.9/site-packages (from matplotlib->fastai) (0.11.0)\r\n",
      "Requirement already satisfied: kiwisolver>=1.0.1 in /usr/local/lib/python3.9/site-packages (from matplotlib->fastai) (1.4.0)\r\n",
      "Requirement already satisfied: fonttools>=4.22.0 in /usr/local/lib/python3.9/site-packages (from matplotlib->fastai) (4.30.0)\r\n",
      "Requirement already satisfied: python-dateutil>=2.7 in /usr/local/lib/python3.9/site-packages (from matplotlib->fastai) (2.8.2)\r\n",
      "Requirement already satisfied: pytz>=2020.1 in /usr/local/lib/python3.9/site-packages (from pandas->fastai) (2021.3)\r\n",
      "Requirement already satisfied: joblib>=0.11 in /usr/local/lib/python3.9/site-packages (from scikit-learn->fastai) (1.1.0)\r\n",
      "Requirement already satisfied: threadpoolctl>=2.0.0 in /usr/local/lib/python3.9/site-packages (from scikit-learn->fastai) (3.1.0)\r\n",
      "Requirement already satisfied: smart-open<6.0.0,>=5.0.0 in /usr/local/lib/python3.9/site-packages (from pathy>=0.3.5->spacy<4->fastai) (5.2.1)\r\n",
      "Requirement already satisfied: six>=1.5 in /usr/local/lib/python3.9/site-packages (from python-dateutil>=2.7->matplotlib->fastai) (1.16.0)\r\n",
      "Requirement already satisfied: click<9.0.0,>=7.1.1 in /usr/local/lib/python3.9/site-packages (from typer<0.5.0,>=0.3.0->spacy<4->fastai) (8.0.4)\r\n",
      "Requirement already satisfied: MarkupSafe>=2.0 in /usr/local/lib/python3.9/site-packages (from jinja2->spacy<4->fastai) (2.0.1)\r\n",
      "\u001B[33mDEPRECATION: Configuring installation scheme with distutils config files is deprecated and will no longer work in the near future. If you are using a Homebrew or Linuxbrew Python, please see discussion at https://github.com/Homebrew/homebrew-core/issues/76621\u001B[0m\u001B[33m\r\n",
      "\u001B[0m"
     ]
    }
   ],
   "source": [
    "!pip install fastai fastcore fastdownload Pillow boto"
   ]
  },
  {
   "cell_type": "code",
   "execution_count": 22,
   "outputs": [],
   "source": [
    "# import matplotlib as mpl, pkgutil, requests, time\n",
    "# from fastcore.foundation import *\n",
    "# from fastai import *\n",
    "# from fastai.vision import *\n",
    "# from fastai.vision.data import download_images\n",
    "# from concurrent.futures import as_completed\n",
    "# from fastdownload import download_url\n",
    "# from pandas.api.types import CategoricalDtype\n",
    "# from scipy.cluster import hierarchy as hc\n",
    "# from io import StringIO, BytesIO\n",
    "# from urllib.error import  URLError, HTTPError"
   ],
   "metadata": {
    "collapsed": false,
    "pycharm": {
     "name": "#%%\n"
    }
   }
  },
  {
   "cell_type": "code",
   "execution_count": 23,
   "outputs": [],
   "source": [
    "import os\n",
    "\n",
    "key = os.environ.get('AZURE_SEARCH_KEY', '131d909ceffc4d7eac177bb511935dc7')"
   ],
   "metadata": {
    "collapsed": false,
    "pycharm": {
     "name": "#%%\n"
    }
   }
  },
  {
   "cell_type": "code",
   "execution_count": null,
   "outputs": [],
   "source": [
    "from fastcore.foundation import L\n",
    "import requests\n",
    "\n",
    "def search_images_bing(key, term, min_sz=128, max_images=150):\n",
    "    params = dict(q=term, count=max_images, min_height=min_sz, min_width=min_sz)\n",
    "    search_url = \"https://api.bing.microsoft.com/v7.0/images/search\"\n",
    "    response = requests.get(search_url, headers={\"Ocp-Apim-Subscription-Key\":key}, params=params)\n",
    "    response.raise_for_status()\n",
    "    return L(response.json()['value'])"
   ],
   "metadata": {
    "collapsed": false,
    "pycharm": {
     "name": "#%%\n"
    }
   }
  },
  {
   "cell_type": "code",
   "execution_count": 33,
   "outputs": [
    {
     "data": {
      "text/plain": "<function fastbook.search_images_bing(key, term, min_sz=128, max_images=150)>"
     },
     "execution_count": 33,
     "metadata": {},
     "output_type": "execute_result"
    }
   ],
   "source": [
    "search_images_bing"
   ],
   "metadata": {
    "collapsed": false,
    "pycharm": {
     "name": "#%%\n"
    }
   }
  },
  {
   "cell_type": "code",
   "execution_count": 34,
   "outputs": [
    {
     "data": {
      "text/plain": "150"
     },
     "execution_count": 34,
     "metadata": {},
     "output_type": "execute_result"
    }
   ],
   "source": [
    "results = search_images_bing(key, 'koala')\n",
    "ims = results.attrgot('contentUrl')\n",
    "len(ims)"
   ],
   "metadata": {
    "collapsed": false,
    "pycharm": {
     "name": "#%%\n"
    }
   }
  },
  {
   "cell_type": "code",
   "execution_count": 35,
   "outputs": [
    {
     "data": {
      "text/plain": "<IPython.core.display.HTML object>",
      "text/html": "\n<style>\n    /* Turns off some styling */\n    progress {\n        /* gets rid of default border in Firefox and Opera. */\n        border: none;\n        /* Needs to be in here for Safari polyfill so background images work as expected. */\n        background-size: auto;\n    }\n    .progress-bar-interrupted, .progress-bar-interrupted::-webkit-progress-bar {\n        background: #F44336;\n    }\n</style>\n"
     },
     "metadata": {},
     "output_type": "display_data"
    },
    {
     "data": {
      "text/plain": "<IPython.core.display.HTML object>",
      "text/html": "\n    <div>\n      <progress value='0' class='' max='370372' style='width:300px; height:20px; vertical-align: middle;'></progress>\n      \n    </div>\n    "
     },
     "metadata": {},
     "output_type": "display_data"
    },
    {
     "data": {
      "text/plain": "Path('images/koala.jpg')"
     },
     "execution_count": 35,
     "metadata": {},
     "output_type": "execute_result"
    }
   ],
   "source": [
    "from fastdownload import download_url\n",
    "\n",
    "dest = 'images/koala.jpg'\n",
    "download_url(ims[0], dest)"
   ],
   "metadata": {
    "collapsed": false,
    "pycharm": {
     "name": "#%%\n"
    }
   }
  },
  {
   "cell_type": "code",
   "execution_count": 36,
   "outputs": [
    {
     "data": {
      "text/plain": "<PIL.Image.Image image mode=RGB size=128x85 at 0x1105AAC40>",
      "image/png": "[encoded data removed]"
     },
     "execution_count": 36,
     "metadata": {},
     "output_type": "execute_result"
    }
   ],
   "source": [
    "from PIL import Image\n",
    "\n",
    "im = Image.open(dest)\n",
    "im.to_thumb(128,128)"
   ],
   "metadata": {
    "collapsed": false,
    "pycharm": {
     "name": "#%%\n"
    }
   }
  },
  {
   "cell_type": "code",
   "execution_count": 37,
   "outputs": [],
   "source": [
    "from pathlib import Path\n",
    "\n",
    "animal_types = \"Feathertail Glider\",\"Rufous Bettong\",\"Kultarr\",\"Rusty Antechinus\",\"Agile Antechinus\",\"Silver-headed Antechinus\",\"Black-tailed Antechinus\",\"Fawn Antechinus\",\"Yellow-footed Antechinus\",\"Atherton Antechinus\",\"Cinnamon Antechinus\",\"Swamp Antechinus\",\"Buff-footed Antechinus\",\"Brown Antechinus\",\"Subtropical Antechinus\",\"Dusky Antechinus\",\"Long-nosed Fur Seal\",\"Antarctic fur seal\",\"Australian Fur-seal\",\"subantarctic fur-seal\",\"White-striped Freetail-bat\",\"Chital\",\"Hog Deer\",\"rorquals\",\"Dwarf Minke Whale\",\"Antarctic minke whale\",\"Sei Whale\",\"Bryde's Whale\",\"blue whale\",\"Fin Whale\",\"Arnoux's beaked whale\",\"Tasmanian Bettong\",\"Burrowing Bettong\",\"Brush-tailed Bettong\",\"Northern Bettong\",\"Banteng\",\"European Cattle\",\"Swamp Buffalo\",\"Mountain Pygmy-possum\",\"Dromedary\",\"Dingo\",\"Pygmy Right Whale\",\"Goat\",\"Long-tailed Pygmy Possum\",\"Western Pygmy-possum\",\"Little Pygmy-possum\",\"Eastern Pygmy-possum\",\"Red Deer\",\"Rusa Deer\",\"Sambar\",\"Northern Mastiff Bat\",\"Pig-footed Bandicoot\",\"Large Pied Bat\",\"Gould's Wattled Bat\",\"Chocolate Wattled Bat\",\"Hoary Wattled Bat\",\"Little Pied Bat\",\"White-footed Tree-rat\",\"Brush-tailed Tree-rat\",\"dolphins\",\"Striped Possum\",\"Fallow Deer\",\"Brush-tailed Mulgara\",\"Crest-tailed Mulgara\",\"Little Red Kaluta\",\"Kowari\",\"Chuditch\",\"Northern Quoll\",\"Bindjulang\",\"Eastern Quoll\",\"common dolphin\",\"Bennett's Tree-kangaroo\",\"Lumholtz's Tree-kangaroo\",\"Bare-backed Fruit-bat\",\"dugong\",\"Rufous Spiny Bandicoot\",\"Donkey\",\"Horse\",\"Southern Right Whale\",\"Eastern False Pipistrelle\",\"Cat\",\"pygmy killer whale\",\"Northern Palm Squirrel\",\"Short-finned Pilot Whale\",\"long-finned pilot whale\",\"grampus\",\"Leadbeater's Possum\",\"Lemuroid Ringtail Possum\",\"Dusky Leafnosed-bat\",\"Fawn Leafnosed-bat\",\"Diadem Leaf-nosed Bat\",\"Arnhem Leaf-nosed Bat\",\"Semon's Leaf-nosed Bat\",\"Northern Leaf-nosed Bat\",\"Water-rat\",\"leopard seal\",\"Southern Bottle-nosed Whale\",\"Musky Rat-kangaroo\",\"Golden Bandicoot\",\"Northern Brown Bandicoot\",\"Southern Brown Bandicoot\",\"pygmy sperm whale\",\"Dwarf Sperm Whale\",\"Fraser's dolphin\",\"Hourglass Dolphin\",\"Dusky Dolphin\",\"Spectacled Hare-wallaby\",\"Mala\",\"Eastern Hare-wallaby\",\"Banded Hare-wallaby\",\"Northern Hairy-nosed Wombat\",\"Southern Hairy-nosed Wombat\",\"Forrest's Mouse\",\"Lakeland Downs Mouse\",\"Lesser Stick-nest Rat\",\"Greater Stick-nest Rat\",\"Weddell seal\",\"Brown Hare\",\"Southern Right Whale Dolphin\",\"Crab-eater Seal\",\"Ghost Bat\",\"Northern Blossom-bat\",\"Western Grey Kangaroo\",\"Eastern Grey Kangaroo\",\"Bilby\",\"Lesser Bilby\",\"Broad-toothed Rat\",\"humpback whale\",\"Grassland Melomys\",\"Cape York Melomys\",\"Fawn-footed Melomys\",\"Bramble Cay Melomys\",\"Black-footed Tree-rat\",\"Golden-backed Tree-rat\",\"beaked whales\",\"Andrews' beaked whale\",\"Blainville's Beaked Whale\",\"Ginkgo-toothed Beaked Whale\",\"Gray's Beaked Whale\",\"Strap-toothed Beaked Whale\",\"True's Beaked Whale\",\"Eastern Freetail-bat\",\"Little Bentwing-bat\",\"Northern Bentwing-bat\",\"Southern Bent-winged Bat\",\"Eastern Bent-winged Bat\",\"Southern Elephant Seal\",\"Tube-nosed Bat\",\"House Mouse\",\"Southern Myotis\",\"Numbat\",\"Australian Sea-lion\",\"Wongai Ningaui\",\"Southern Ningaui\",\"Agile Wallaby\",\"Black-striped Wallaby\",\"Tammar Wallaby\",\"Western Brush Wallaby\",\"Parma Wallaby\",\"Whiptail Wallaby\",\"Red-necked Wallaby\",\"Spinifex Hopping-mouse\",\"Short-tailed Hopping-mouse\",\"Northern Hopping-mouse\",\"Fawn Hopping-mouse\",\"Dusky Hopping-mouse\",\"Long-tailed Hopping-mouse\",\"Mitchell's Hopping Mouse\",\"Central Marsupial Mole\",\"Eastern Tube-nosed Bat\",\"Arnhem Long-eared Bat\",\"Eastern Long-eared Bat\",\"Corben's Long-eared Bat\",\"Pallid Long-eared Bat\",\"Lesser Long-eared Bat\",\"Gould's Long-eared Bat\",\"Greater Long-eared Bat\",\"Tasmanian Long-eared Bat\",\"Pygmy Long-eared Bat\",\"eared seals\",\"Ross Seal\",\"Bridled Nailtail Wallaby\",\"Crescent Nailtail Wallaby\",\"Northern Nailtail Wallaby\",\"Australian snubfin dolphin\",\"Killer Whale\",\"Platypus\",\"Rabbit\",\"Antilopine Wallaroo\",\"Black Wallaroo\",\"Common Wallaroo\",\"Red Kangaroo\",\"North-western Free-tailed Bat\",\"Cape York Free-tailed Bat\",\"South-western Free-tailed Bat\",\"Northern Free-tailed Bat\",\"Inland Free-tailed Bat\",\"Little Mastiff-bat\",\"Ride's Free-tailed Bat\",\"seals\",\"Dibbler\",\"melon-headed whale\",\"Western Barred Bandicoot\",\"Desert Bandicoot\",\"Eastern Barred Bandicoot\",\"Greater Glider\",\"Yellow-bellied Glider\",\"Sugar Glider\",\"Sugar Glider\",\"Mahogany Glider\",\"Squirrel Glider\",\"Allied Rock-wallaby\",\"Short-eared Rock-wallaby\",\"Warabi\",\"Cape York Rock-wallaby\",\"Nabarlek\",\"Godman's Rock-wallaby\",\"Herbert's Rock-wallaby\",\"Unadorned Rock-wallaby\",\"Black-footed Rock-wallaby\",\"Mareeba Rock-wallaby\",\"Brush-tailed Rock-wallaby\",\"Proserpine Rock-wallaby\",\"Rothschild's Rock-wallaby\",\"Sharman's Rock-wallaby\",\"Eastern Short-eared Rock-wallaby\",\"Yellow-footed Rock-wallaby\",\"Rock Ringtail Possum\",\"Grey Cuscus\",\"Red-tailed Phascogale\",\"Brush-tailed Phascogale\",\"Koala\",\"Golden-tipped Bat\",\"Sperm Whale\",\"Cape York Pipistrelle\",\"Northern Pipistrelle\",\"Paucident Planigale\",\"Long-tailed Planigale\",\"Common Planigale\",\"Narrow-nosed Planigale\",\"Long-footed Potoroo\",\"Long-nosed Potoroo\",\"Northern Dibbler\",\"Fat-tailed Pseudantechinus\",\"Carpentarian Pseudantechinus\",\"Ningbing Pseudantechinus\",\"Common Ringtail Possum\",\"Green Ringtail Possum\",\"Daintree River Ringtail Possum\",\"Herbert River Ringtail Possum\",\"Ash-grey Mouse\",\"Silky Mouse\",\"Plains Rat\",\"Bolam's Mouse\",\"Kakadu Pebble-mound Mouse\",\"Pebble-mound Mouse\",\"Delicate Mouse\",\"Desert Mouse\",\"Shark Bay Mouse\",\"Smoky Mouse\",\"Gould's Mouse\",\"Eastern Chestnut Mouse\",\"Sandy Inland Mouse\",\"Long-tailed Mouse\",\"Central Pebble-mound Mouse\",\"Western Chestnut Mouse\",\"New Holland Mouse\",\"Hastings River Mouse\",\"North-eastern Mouse\",\"Heath Rat\",\"false killer whale\",\"Black Flying-fox\",\"Spectacled Flying-fox\",\"Grey-headed Flying-fox\",\"Little Red Flying-fox\",\"Dusky Rat\",\"Pacific Rat\",\"Bush Rat\",\"Cape York Rat\",\"Swamp Rat\",\"Brown Rat\",\"Black Rat\",\"Canefield Rat\",\"Pale Field-rat\",\"Long-haired Rat\",\"Eastern Horseshoe-bat\",\"Orange Leaf-nosed Bat\",\"Yellow-bellied Sheathtail-bat\",\"Papuan Sheathtail-bat\",\"Bare-rumped Sheathtail-bat\",\"Tasmanian Devil\",\"Eastern Grey Squirrel\",\"Greater Broad-nosed Bat\",\"Inland Broad-nosed Bat\",\"Little Broad-nosed Bat\",\"Eastern Broad-nosed Bat\",\"Northern Broad-nosed Bat\",\"Hairy-nosed Freetail-bat\",\"Quokka\",\"Chestnut Dunnart\",\"Kakadu Dunnart\",\"Butler's Dunnart\",\"Fat-tailed Dunnart\",\"Little Long-tailed Dunnart\",\"Julia Creek Dunnart\",\"Dusky Dunnart\",\"Gilbert's Dunnart\",\"Hairy-footed Dunnart\",\"White-footed Dunnart\",\"Long-tailed Dunnart\",\"Stripe-faced Dunnart\",\"Common Dunnart\",\"Ooldea Dunnart\",\"Sandhill Dunnart\",\"Red-cheeked Dunnart\",\"Lesser Hairy-footed Dunnart\",\"Indo-pacific Hump-backed Dolphin\",\"Australian humpbacked dolphin\",\"Common Spotted Cuscus\",\"Spotted Dolphin\",\"striped dolphin\",\"Spinner Dolphin\",\"Dwarf Spinner Dolphin\",\"Rough-toothed Dolphin\",\"Pig\",\"Common Blossom-bat\",\"Short-beaked Echidna\",\"Coastal Sheathtail-bat\",\"Common Sheathtail-bat\",\"Hill's Sheathtail-bat\",\"Arnhem Sheathtail-bat\",\"Troughton's Sheathtail-bat\",\"Honey Possum\",\"Tasman Beaked Whale\",\"Thylacine\",\"Tasmanian Pademelon\",\"Red-legged Pademelon\",\"Red-necked Pademelon\",\"Mountain Brushtail Possum\",\"Common Brushtail Possum\",\"Indian Ocean bottlenose dolphin\",\"burrunan dolphin\",\"bottle-nosed dolphin\",\"White-tailed Uromys\",\"Thornton Peak Uromys\",\"Inland Forest Bat\",\"Northern Cave Bat\",\"Large Forest Bat\",\"Yellow-lipped Cave Bat\",\"Finlayson's Cave Bat\",\"Eastern Forest Bat\",\"Southern Forest Bat\",\"Eastern Cave Bat\",\"Little Forest Bat\",\"Common Wombat\",\"Fox\",\"Swamp Wallaby\",\"Scaly-tailed Possum\",\"False Water-rat\",\"beaked whales\",\"Cuvier's Beaked Whale\",\"Common Rock-rat\",\"Arnhem Land Rock-rat\",\"Carpentarian Rock-rat\",\"Central Rock-rat\",\"Large Rock-rat\"\n",
    "path = Path('animal')"
   ],
   "metadata": {
    "collapsed": false,
    "pycharm": {
     "name": "#%%\n"
    }
   }
  },
  {
   "cell_type": "code",
   "execution_count": null,
   "outputs": [],
   "source": [
    "from fastai.vision.utils import download_images\n",
    "\n",
    "if not path.exists():\n",
    "    path.mkdir()\n",
    "for o in animal_types:\n",
    "    dest = (path/o)\n",
    "    if not dest.exists():\n",
    "        dest.mkdir()\n",
    "        results = search_images_bing(key, f'{o} animal')\n",
    "        download_images(dest, urls=results.attrgot('contentUrl'))"
   ],
   "metadata": {
    "collapsed": false,
    "pycharm": {
     "name": "#%%\n",
     "is_executing": true
    }
   }
  },
  {
   "cell_type": "code",
   "execution_count": null,
   "outputs": [],
   "source": [
    "from fastai.data.transforms import get_image_files\n",
    "\n",
    "fns = get_image_files(path)\n",
    "fns"
   ],
   "metadata": {
    "collapsed": false,
    "pycharm": {
     "name": "#%%\n"
    }
   }
  },
  {
   "cell_type": "code",
   "execution_count": null,
   "outputs": [],
   "source": [
    "from fastai.vision.utils import verify_images\n",
    "\n",
    "failed = verify_images(fns)\n",
    "failed"
   ],
   "metadata": {
    "collapsed": false,
    "pycharm": {
     "name": "#%%\n"
    }
   }
  },
  {
   "cell_type": "code",
   "execution_count": null,
   "outputs": [],
   "source": [
    "failed.map(Path.unlink);"
   ],
   "metadata": {
    "collapsed": false,
    "pycharm": {
     "name": "#%%\n"
    }
   }
  },
  {
   "cell_type": "code",
   "execution_count": 19,
   "outputs": [
    {
     "ename": "NameError",
     "evalue": "name 'get_image_files' is not defined",
     "output_type": "error",
     "traceback": [
      "\u001B[0;31m---------------------------------------------------------------------------\u001B[0m",
      "\u001B[0;31mNameError\u001B[0m                                 Traceback (most recent call last)",
      "Input \u001B[0;32mIn [19]\u001B[0m, in \u001B[0;36m<cell line: 5>\u001B[0;34m()\u001B[0m\n\u001B[1;32m      3\u001B[0m \u001B[38;5;28;01mfrom\u001B[39;00m \u001B[38;5;21;01mfastai\u001B[39;00m\u001B[38;5;21;01m.\u001B[39;00m\u001B[38;5;21;01mvision\u001B[39;00m\u001B[38;5;21;01m.\u001B[39;00m\u001B[38;5;21;01mdata\u001B[39;00m \u001B[38;5;28;01mimport\u001B[39;00m ImageBlock\n\u001B[1;32m      4\u001B[0m \u001B[38;5;28;01mfrom\u001B[39;00m \u001B[38;5;21;01mfastai\u001B[39;00m\u001B[38;5;21;01m.\u001B[39;00m\u001B[38;5;21;01mdata\u001B[39;00m\u001B[38;5;21;01m.\u001B[39;00m\u001B[38;5;21;01mblock\u001B[39;00m \u001B[38;5;28;01mimport\u001B[39;00m DataBlock, CategoryBlock\n\u001B[1;32m      5\u001B[0m animals \u001B[38;5;241m=\u001B[39m DataBlock(\n\u001B[1;32m      6\u001B[0m     blocks\u001B[38;5;241m=\u001B[39m(ImageBlock, CategoryBlock),\n\u001B[0;32m----> 7\u001B[0m     get_items\u001B[38;5;241m=\u001B[39m\u001B[43mget_image_files\u001B[49m,\n\u001B[1;32m      8\u001B[0m     splitter\u001B[38;5;241m=\u001B[39mRandomSplitter(valid_pct\u001B[38;5;241m=\u001B[39m\u001B[38;5;241m0.2\u001B[39m, seed\u001B[38;5;241m=\u001B[39m\u001B[38;5;241m42\u001B[39m),\n\u001B[1;32m      9\u001B[0m     get_y\u001B[38;5;241m=\u001B[39mparent_label,\n\u001B[1;32m     10\u001B[0m     item_tfms\u001B[38;5;241m=\u001B[39mResize(\u001B[38;5;241m128\u001B[39m))\n",
      "\u001B[0;31mNameError\u001B[0m: name 'get_image_files' is not defined"
     ]
    }
   ],
   "source": [
    "from fastai.vision.augment import Resize\n",
    "from fastai.data.transforms import RandomSplitter, parent_label\n",
    "from fastai.vision.data import ImageBlock\n",
    "from fastai.data.block import DataBlock, CategoryBlock\n",
    "\n",
    "animals = DataBlock(\n",
    "    blocks=(ImageBlock, CategoryBlock),\n",
    "    get_items=get_image_files,\n",
    "    splitter=RandomSplitter(valid_pct=0.2, seed=42),\n",
    "    get_y=parent_label,\n",
    "    item_tfms=Resize(128))"
   ],
   "metadata": {
    "collapsed": false,
    "pycharm": {
     "name": "#%%\n"
    }
   }
  },
  {
   "cell_type": "code",
   "execution_count": 18,
   "outputs": [
    {
     "ename": "NameError",
     "evalue": "name 'animals' is not defined",
     "output_type": "error",
     "traceback": [
      "\u001B[0;31m---------------------------------------------------------------------------\u001B[0m",
      "\u001B[0;31mNameError\u001B[0m                                 Traceback (most recent call last)",
      "Input \u001B[0;32mIn [18]\u001B[0m, in \u001B[0;36m<cell line: 1>\u001B[0;34m()\u001B[0m\n\u001B[0;32m----> 1\u001B[0m dls \u001B[38;5;241m=\u001B[39m \u001B[43manimals\u001B[49m\u001B[38;5;241m.\u001B[39mdataloaders(path)\n",
      "\u001B[0;31mNameError\u001B[0m: name 'animals' is not defined"
     ]
    }
   ],
   "source": [
    "dls = animals.dataloaders(path)"
   ],
   "metadata": {
    "collapsed": false,
    "pycharm": {
     "name": "#%%\n"
    }
   }
  },
  {
   "cell_type": "code",
   "execution_count": null,
   "outputs": [],
   "source": [
    "dls.valid.show_batch(max_n=4, nrows=1)"
   ],
   "metadata": {
    "collapsed": false,
    "pycharm": {
     "name": "#%%\n"
    }
   }
  },
  {
   "cell_type": "code",
   "execution_count": 17,
   "outputs": [
    {
     "ename": "NameError",
     "evalue": "name 'animals' is not defined",
     "output_type": "error",
     "traceback": [
      "\u001B[0;31m---------------------------------------------------------------------------\u001B[0m",
      "\u001B[0;31mNameError\u001B[0m                                 Traceback (most recent call last)",
      "Input \u001B[0;32mIn [17]\u001B[0m, in \u001B[0;36m<cell line: 2>\u001B[0;34m()\u001B[0m\n\u001B[1;32m      1\u001B[0m \u001B[38;5;28;01mfrom\u001B[39;00m \u001B[38;5;21;01mfastai\u001B[39;00m\u001B[38;5;21;01m.\u001B[39;00m\u001B[38;5;21;01mvision\u001B[39;00m\u001B[38;5;21;01m.\u001B[39;00m\u001B[38;5;21;01maugment\u001B[39;00m \u001B[38;5;28;01mimport\u001B[39;00m __all__\n\u001B[0;32m----> 2\u001B[0m animals \u001B[38;5;241m=\u001B[39m \u001B[43manimals\u001B[49m\u001B[38;5;241m.\u001B[39mnew(item_tfms\u001B[38;5;241m=\u001B[39mResize(\u001B[38;5;241m128\u001B[39m, ResizeMethod\u001B[38;5;241m.\u001B[39mSquish))\n\u001B[1;32m      3\u001B[0m dls \u001B[38;5;241m=\u001B[39m animals\u001B[38;5;241m.\u001B[39mdataloaders(path)\n\u001B[1;32m      4\u001B[0m dls\u001B[38;5;241m.\u001B[39mvalid\u001B[38;5;241m.\u001B[39mshow_batch(max_n\u001B[38;5;241m=\u001B[39m\u001B[38;5;241m4\u001B[39m, nrows\u001B[38;5;241m=\u001B[39m\u001B[38;5;241m1\u001B[39m)\n",
      "\u001B[0;31mNameError\u001B[0m: name 'animals' is not defined"
     ]
    }
   ],
   "source": [
    "from fastai.vision.augment import __all__\n",
    "\n",
    "animals = animals.new(item_tfms=Resize(128, ResizeMethod.Squish))\n",
    "dls = animals.dataloaders(path)\n",
    "dls.valid.show_batch(max_n=4, nrows=1)"
   ],
   "metadata": {
    "collapsed": false,
    "pycharm": {
     "name": "#%%\n"
    }
   }
  },
  {
   "cell_type": "code",
   "execution_count": null,
   "outputs": [],
   "source": [
    "animals = animals.new(item_tfms=Resize(128, ResizeMethod.Pad, pad_mode='zeros'))\n",
    "dls = animals.dataloaders(path)\n",
    "dls.valid.show_batch(max_n=4, nrows=1)"
   ],
   "metadata": {
    "collapsed": false,
    "pycharm": {
     "name": "#%%\n"
    }
   }
  },
  {
   "cell_type": "code",
   "execution_count": null,
   "outputs": [],
   "source": [
    "animals = animals.new(item_tfms=RandomResizedCrop(128, min_scale=0.3))\n",
    "dls = animals.dataloaders(path)\n",
    "dls.train.show_batch(max_n=4, nrows=1, unique=True)"
   ],
   "metadata": {
    "collapsed": false,
    "pycharm": {
     "name": "#%%\n"
    }
   }
  },
  {
   "cell_type": "code",
   "execution_count": null,
   "outputs": [],
   "source": [
    "animals = animals.new(item_tfms=Resize(128), batch_tfms=aug_transforms(mult=2))\n",
    "dls = animals.dataloaders(path)\n",
    "dls.train.show_batch(max_n=8, nrows=2, unique=True)"
   ],
   "metadata": {
    "collapsed": false,
    "pycharm": {
     "name": "#%%\n"
    }
   }
  },
  {
   "cell_type": "code",
   "execution_count": null,
   "outputs": [],
   "source": [
    "animals = animals.new(\n",
    "    item_tfms=RandomResizedCrop(224, min_scale=0.5),\n",
    "    batch_tfms=aug_transforms())\n",
    "dls = animals.dataloaders(path)"
   ],
   "metadata": {
    "collapsed": false,
    "pycharm": {
     "name": "#%%\n"
    }
   }
  },
  {
   "cell_type": "code",
   "execution_count": null,
   "outputs": [],
   "source": [
    "learn = cnn_learner(dls, resnet18, metrics=error_rate)\n",
    "learn.fine_tune(4)"
   ],
   "metadata": {
    "collapsed": false,
    "pycharm": {
     "name": "#%%\n"
    }
   }
  },
  {
   "cell_type": "code",
   "execution_count": null,
   "outputs": [],
   "source": [
    "interp = ClassificationInterpretation.from_learner(learn)\n",
    "interp.plot_confusion_matrix()"
   ],
   "metadata": {
    "collapsed": false,
    "pycharm": {
     "name": "#%%\n"
    }
   }
  },
  {
   "cell_type": "code",
   "execution_count": null,
   "outputs": [],
   "source": [
    "def plot_top_losses_fix(interp, k, largest=True, **kwargs):\n",
    "        losses,idx = interp.top_losses(k, largest)\n",
    "        if not isinstance(interp.inputs, tuple): interp.inputs = (interp.inputs,)\n",
    "        if isinstance(interp.inputs[0], Tensor): inps = tuple(o[idx] for o in interp.inputs)\n",
    "        else: inps = interp.dl.create_batch(interp.dl.before_batch([tuple(o[i] for o in interp.inputs) for i in idx]))\n",
    "        b = inps + tuple(o[idx] for o in (interp.targs if is_listy(interp.targs) else (interp.targs,)))\n",
    "        x,y,its = interp.dl._pre_show_batch(b, max_n=k)\n",
    "        b_out = inps + tuple(o[idx] for o in (interp.decoded if is_listy(interp.decoded) else (interp.decoded,)))\n",
    "        x1,y1,outs = interp.dl._pre_show_batch(b_out, max_n=k)\n",
    "        if its is not None:\n",
    "            #plot_top_losses(x, y, its, outs.itemgot(slice(len(inps), None)), L(self.preds).itemgot(idx), losses,  **kwargs)\n",
    "            plot_top_losses(x, y, its, outs.itemgot(slice(len(inps), None)), interp.preds[idx], losses,  **kwargs)\n",
    "        #TODO: figure out if this is needed\n",
    "        #its None means that a batch knows how to show itself as a whole, so we pass x, x1\n",
    "        #else: show_results(x, x1, its, ctxs=ctxs, max_n=max_n, **kwargs)"
   ],
   "metadata": {
    "collapsed": false,
    "pycharm": {
     "name": "#%%\n"
    }
   }
  },
  {
   "cell_type": "code",
   "execution_count": null,
   "outputs": [],
   "source": [
    "# interp.plot_top_losses(5, nrows=1)\n",
    "plot_top_losses_fix(interp, 10, nrows=2)"
   ],
   "metadata": {
    "collapsed": false,
    "pycharm": {
     "name": "#%%\n"
    }
   }
  },
  {
   "cell_type": "code",
   "execution_count": null,
   "outputs": [],
   "source": [
    "cleaner = ImageClassifierCleaner(learn)\n",
    "cleaner"
   ],
   "metadata": {
    "collapsed": false,
    "pycharm": {
     "name": "#%%\n"
    }
   }
  },
  {
   "cell_type": "code",
   "execution_count": null,
   "outputs": [],
   "source": [
    "for idx in cleaner.delete(): cleaner.fns[idx].unlink()\n",
    "# for idx,cat in cleaner.change(): shutil.move(str(cleaner.fns[idx]), path/cat)\n",
    "for idx,cat in cleaner.change():\n",
    "    try:\n",
    "        shutil.move(str(cleaner.fns[idx]), path/cat)\n",
    "    except:\n",
    "        new_fname = str(cleaner.fns[idx]).split(\".\")[0] +\"moved.\"+ str(cleaner.fns[idx]).split(\".\")[1]\n",
    "        os.rename(str(cleaner.fns[idx]), new_fname)\n",
    "        shutil.move(new_fname, path/cat)"
   ],
   "metadata": {
    "collapsed": false,
    "pycharm": {
     "name": "#%%\n"
    }
   }
  },
  {
   "cell_type": "code",
   "execution_count": null,
   "outputs": [],
   "source": [
    "learn.export()"
   ],
   "metadata": {
    "collapsed": false,
    "pycharm": {
     "name": "#%%\n"
    }
   }
  },
  {
   "cell_type": "code",
   "execution_count": null,
   "outputs": [],
   "source": [
    "path = Path()\n",
    "path.ls(file_exts='.pkl')"
   ],
   "metadata": {
    "collapsed": false,
    "pycharm": {
     "name": "#%%\n"
    }
   }
  },
  {
   "cell_type": "code",
   "execution_count": null,
   "outputs": [],
   "source": [
    "learn_inf = load_learner(path/'export.pkl')"
   ],
   "metadata": {
    "collapsed": false,
    "pycharm": {
     "name": "#%%\n"
    }
   }
  },
  {
   "cell_type": "code",
   "execution_count": null,
   "outputs": [],
   "source": [
    "learn_inf.predict('images/koala.jpg')"
   ],
   "metadata": {
    "collapsed": false,
    "pycharm": {
     "name": "#%%\n"
    }
   }
  },
  {
   "cell_type": "code",
   "execution_count": null,
   "outputs": [],
   "source": [
    "learn_inf.dls.vocab"
   ],
   "metadata": {
    "collapsed": false,
    "pycharm": {
     "name": "#%%\n"
    }
   }
  },
  {
   "cell_type": "code",
   "execution_count": null,
   "outputs": [],
   "source": [
    "btn_upload = widgets.FileUpload()\n",
    "btn_upload"
   ],
   "metadata": {
    "collapsed": false,
    "pycharm": {
     "name": "#%%\n"
    }
   }
  },
  {
   "cell_type": "code",
   "execution_count": null,
   "outputs": [],
   "source": [
    "btn_upload = SimpleNamespace(data = ['images/koala.jpg'])"
   ],
   "metadata": {
    "collapsed": false,
    "pycharm": {
     "name": "#%%\n"
    }
   }
  },
  {
   "cell_type": "code",
   "execution_count": null,
   "outputs": [],
   "source": [
    "img = PILImage.create(btn_upload.data[-1])"
   ],
   "metadata": {
    "collapsed": false,
    "pycharm": {
     "name": "#%%\n"
    }
   }
  },
  {
   "cell_type": "code",
   "execution_count": null,
   "outputs": [],
   "source": [
    "out_pl = widgets.Output()\n",
    "out_pl.clear_output()\n",
    "with out_pl: display(img.to_thumb(128,128))\n",
    "out_pl"
   ],
   "metadata": {
    "collapsed": false,
    "pycharm": {
     "name": "#%%\n"
    }
   }
  },
  {
   "cell_type": "code",
   "execution_count": null,
   "outputs": [],
   "source": [
    "pred,pred_idx,probs = learn_inf.predict(img)"
   ],
   "metadata": {
    "collapsed": false,
    "pycharm": {
     "name": "#%%\n"
    }
   }
  },
  {
   "cell_type": "code",
   "execution_count": null,
   "outputs": [],
   "source": [
    "lbl_pred = widgets.Label()\n",
    "lbl_pred.value = f'Prediction: {pred}; Probability: {probs[pred_idx]:.04f}'\n",
    "lbl_pred"
   ],
   "metadata": {
    "collapsed": false,
    "pycharm": {
     "name": "#%%\n"
    }
   }
  },
  {
   "cell_type": "code",
   "execution_count": null,
   "outputs": [],
   "source": [
    "btn_run = widgets.Button(description='Classify')\n",
    "btn_run"
   ],
   "metadata": {
    "collapsed": false,
    "pycharm": {
     "name": "#%%\n"
    }
   }
  },
  {
   "cell_type": "code",
   "execution_count": null,
   "outputs": [],
   "source": [
    "def on_click_classify(change):\n",
    "    img = PILImage.create(btn_upload.data[-1])\n",
    "    out_pl.clear_output()\n",
    "    with out_pl: display(img.to_thumb(128,128))\n",
    "    pred,pred_idx,probs = learn_inf.predict(img)\n",
    "    lbl_pred.value = f'Prediction: {pred}; Probability: {probs[pred_idx]:.04f}'\n",
    "\n",
    "btn_run.on_click(on_click_classify)"
   ],
   "metadata": {
    "collapsed": false,
    "pycharm": {
     "name": "#%%\n"
    }
   }
  },
  {
   "cell_type": "code",
   "execution_count": null,
   "outputs": [],
   "source": [
    "btn_upload = widgets.FileUpload()"
   ],
   "metadata": {
    "collapsed": false,
    "pycharm": {
     "name": "#%%\n"
    }
   }
  },
  {
   "cell_type": "code",
   "execution_count": null,
   "outputs": [],
   "source": [
    "VBox([widgets.Label('Select your animal!'),\n",
    "      btn_upload, btn_run, out_pl, lbl_pred])"
   ],
   "metadata": {
    "collapsed": false,
    "pycharm": {
     "name": "#%%\n"
    }
   }
  },
  {
   "cell_type": "code",
   "execution_count": null,
   "outputs": [],
   "source": [
    "!pip install voila\n",
    "!jupyter serverextension enable --sys-prefix voila"
   ],
   "metadata": {
    "collapsed": false,
    "pycharm": {
     "name": "#%%\n"
    }
   }
  },
  {
   "cell_type": "code",
   "execution_count": null,
   "outputs": [],
   "source": [],
   "metadata": {
    "collapsed": false,
    "pycharm": {
     "name": "#%%\n"
    }
   }
  }
 ],
 "metadata": {
  "kernelspec": {
   "display_name": "Python 3",
   "language": "python",
   "name": "python3"
  },
  "language_info": {
   "codemirror_mode": {
    "name": "ipython",
    "version": 2
   },
   "file_extension": ".py",
   "mimetype": "text/x-python",
   "name": "python",
   "nbconvert_exporter": "python",
   "pygments_lexer": "ipython2",
   "version": "2.7.6"
  }
 },
 "nbformat": 4,
 "nbformat_minor": 0
}