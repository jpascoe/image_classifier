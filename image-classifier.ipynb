{
 "cells": [
  {
   "cell_type": "code",
   "execution_count": 1,
   "metadata": {
    "collapsed": false,
    "pycharm": {
     "name": "#%%\n"
    }
   },
   "outputs": [
    {
     "name": "stdout",
     "output_type": "stream",
     "text": [
      "Requirement already satisfied: fastai in c:\\users\\jason\\anaconda3\\lib\\site-packages (from -r requirements.txt (line 1)) (2.5.3)\n",
      "Requirement already satisfied: fastcore in c:\\users\\jason\\anaconda3\\lib\\site-packages (from -r requirements.txt (line 2)) (1.3.29)\n",
      "Requirement already satisfied: fastdownload in c:\\users\\jason\\anaconda3\\lib\\site-packages (from -r requirements.txt (line 3)) (0.0.5)\n",
      "Requirement already satisfied: IPython in c:\\users\\jason\\anaconda3\\lib\\site-packages (from -r requirements.txt (line 4)) (7.32.0)\n",
      "Collecting IPython\n",
      "  Using cached ipython-8.1.1-py3-none-any.whl (750 kB)\n",
      "Requirement already satisfied: ipywidgets in c:\\users\\jason\\anaconda3\\lib\\site-packages (from -r requirements.txt (line 5)) (7.7.0)\n",
      "Requirement already satisfied: Pillow in c:\\users\\jason\\anaconda3\\lib\\site-packages (from -r requirements.txt (line 6)) (9.0.1)\n",
      "Requirement already satisfied: requests in c:\\users\\jason\\anaconda3\\lib\\site-packages (from -r requirements.txt (line 7)) (2.27.1)\n",
      "Requirement already satisfied: torch in c:\\users\\jason\\anaconda3\\lib\\site-packages (from -r requirements.txt (line 8)) (1.10.2)\n",
      "Collecting torch\n",
      "  Using cached torch-1.11.0-cp39-cp39-win_amd64.whl (157.9 MB)\n",
      "Requirement already satisfied: torchvision in c:\\users\\jason\\anaconda3\\lib\\site-packages (from -r requirements.txt (line 9)) (0.11.3)\n",
      "Collecting torchvision\n",
      "  Using cached torchvision-0.12.0-cp39-cp39-win_amd64.whl (1.0 MB)\n",
      "Requirement already satisfied: pip in c:\\users\\jason\\anaconda3\\lib\\site-packages (from fastai->-r requirements.txt (line 1)) (21.2.4)\n",
      "Requirement already satisfied: pandas in c:\\users\\jason\\anaconda3\\lib\\site-packages (from fastai->-r requirements.txt (line 1)) (1.3.4)\n",
      "Requirement already satisfied: pyyaml in c:\\users\\jason\\anaconda3\\lib\\site-packages (from fastai->-r requirements.txt (line 1)) (6.0)\n",
      "Requirement already satisfied: matplotlib in c:\\users\\jason\\anaconda3\\lib\\site-packages (from fastai->-r requirements.txt (line 1)) (3.4.3)\n",
      "Requirement already satisfied: scipy in c:\\users\\jason\\anaconda3\\lib\\site-packages (from fastai->-r requirements.txt (line 1)) (1.7.1)\n",
      "Requirement already satisfied: packaging in c:\\users\\jason\\anaconda3\\lib\\site-packages (from fastai->-r requirements.txt (line 1)) (21.0)\n",
      "Requirement already satisfied: fastprogress>=0.2.4 in c:\\users\\jason\\anaconda3\\lib\\site-packages (from fastai->-r requirements.txt (line 1)) (1.0.2)\n",
      "Requirement already satisfied: spacy<4 in c:\\users\\jason\\anaconda3\\lib\\site-packages (from fastai->-r requirements.txt (line 1)) (3.2.3)\n",
      "Requirement already satisfied: scikit-learn in c:\\users\\jason\\anaconda3\\lib\\site-packages (from fastai->-r requirements.txt (line 1)) (0.24.2)\n",
      "Requirement already satisfied: colorama in c:\\users\\jason\\appdata\\roaming\\python\\python39\\site-packages (from IPython->-r requirements.txt (line 4)) (0.4.4)\n",
      "Requirement already satisfied: prompt-toolkit!=3.0.0,!=3.0.1,<3.1.0,>=2.0.0 in c:\\users\\jason\\anaconda3\\lib\\site-packages (from IPython->-r requirements.txt (line 4)) (3.0.20)\n",
      "Requirement already satisfied: matplotlib-inline in c:\\users\\jason\\anaconda3\\lib\\site-packages (from IPython->-r requirements.txt (line 4)) (0.1.2)\n",
      "Requirement already satisfied: traitlets>=5 in c:\\users\\jason\\anaconda3\\lib\\site-packages (from IPython->-r requirements.txt (line 4)) (5.1.0)\n",
      "Requirement already satisfied: setuptools>=18.5 in c:\\users\\jason\\anaconda3\\lib\\site-packages (from IPython->-r requirements.txt (line 4)) (58.0.4)\n",
      "Collecting stack-data\n",
      "  Using cached stack_data-0.2.0-py3-none-any.whl (21 kB)\n",
      "Requirement already satisfied: decorator in c:\\users\\jason\\anaconda3\\lib\\site-packages (from IPython->-r requirements.txt (line 4)) (5.1.0)\n",
      "Requirement already satisfied: pygments>=2.4.0 in c:\\users\\jason\\anaconda3\\lib\\site-packages (from IPython->-r requirements.txt (line 4)) (2.10.0)\n",
      "Requirement already satisfied: jedi>=0.16 in c:\\users\\jason\\anaconda3\\lib\\site-packages (from IPython->-r requirements.txt (line 4)) (0.18.0)\n",
      "Requirement already satisfied: pickleshare in c:\\users\\jason\\anaconda3\\lib\\site-packages (from IPython->-r requirements.txt (line 4)) (0.7.5)\n",
      "Requirement already satisfied: backcall in c:\\users\\jason\\anaconda3\\lib\\site-packages (from IPython->-r requirements.txt (line 4)) (0.2.0)\n",
      "Requirement already satisfied: nbformat>=4.2.0 in c:\\users\\jason\\anaconda3\\lib\\site-packages (from ipywidgets->-r requirements.txt (line 5)) (5.1.3)\n",
      "Requirement already satisfied: ipython-genutils~=0.2.0 in c:\\users\\jason\\anaconda3\\lib\\site-packages (from ipywidgets->-r requirements.txt (line 5)) (0.2.0)\n",
      "Requirement already satisfied: jupyterlab-widgets>=1.0.0 in c:\\users\\jason\\anaconda3\\lib\\site-packages (from ipywidgets->-r requirements.txt (line 5)) (1.0.0)\n",
      "Requirement already satisfied: widgetsnbextension~=3.6.0 in c:\\users\\jason\\anaconda3\\lib\\site-packages (from ipywidgets->-r requirements.txt (line 5)) (3.6.0)\n",
      "Requirement already satisfied: ipykernel>=4.5.1 in c:\\users\\jason\\anaconda3\\lib\\site-packages (from ipywidgets->-r requirements.txt (line 5)) (6.4.1)\n",
      "Requirement already satisfied: urllib3<1.27,>=1.21.1 in c:\\users\\jason\\anaconda3\\lib\\site-packages (from requests->-r requirements.txt (line 7)) (1.26.7)\n",
      "Requirement already satisfied: certifi>=2017.4.17 in c:\\users\\jason\\anaconda3\\lib\\site-packages (from requests->-r requirements.txt (line 7)) (2021.10.8)\n",
      "Requirement already satisfied: idna<4,>=2.5 in c:\\users\\jason\\anaconda3\\lib\\site-packages (from requests->-r requirements.txt (line 7)) (3.2)\n",
      "Requirement already satisfied: charset-normalizer~=2.0.0 in c:\\users\\jason\\anaconda3\\lib\\site-packages (from requests->-r requirements.txt (line 7)) (2.0.4)\n",
      "Requirement already satisfied: typing-extensions in c:\\users\\jason\\anaconda3\\lib\\site-packages (from torch->-r requirements.txt (line 8)) (3.10.0.2)\n",
      "Requirement already satisfied: numpy in c:\\users\\jason\\anaconda3\\lib\\site-packages (from torchvision->-r requirements.txt (line 9)) (1.20.3)\n",
      "Requirement already satisfied: tornado<7.0,>=4.2 in c:\\users\\jason\\anaconda3\\lib\\site-packages (from ipykernel>=4.5.1->ipywidgets->-r requirements.txt (line 5)) (6.1)\n",
      "Requirement already satisfied: jupyter-client<8.0 in c:\\users\\jason\\anaconda3\\lib\\site-packages (from ipykernel>=4.5.1->ipywidgets->-r requirements.txt (line 5)) (6.1.12)\n",
      "Requirement already satisfied: debugpy<2.0,>=1.0.0 in c:\\users\\jason\\anaconda3\\lib\\site-packages (from ipykernel>=4.5.1->ipywidgets->-r requirements.txt (line 5)) (1.4.1)\n",
      "Requirement already satisfied: parso<0.9.0,>=0.8.0 in c:\\users\\jason\\anaconda3\\lib\\site-packages (from jedi>=0.16->IPython->-r requirements.txt (line 4)) (0.8.2)\n",
      "Requirement already satisfied: jupyter-core>=4.6.0 in c:\\users\\jason\\anaconda3\\lib\\site-packages (from jupyter-client<8.0->ipykernel>=4.5.1->ipywidgets->-r requirements.txt (line 5)) (4.8.1)\n",
      "Requirement already satisfied: python-dateutil>=2.1 in c:\\users\\jason\\anaconda3\\lib\\site-packages (from jupyter-client<8.0->ipykernel>=4.5.1->ipywidgets->-r requirements.txt (line 5)) (2.8.2)\n",
      "Requirement already satisfied: pyzmq>=13 in c:\\users\\jason\\anaconda3\\lib\\site-packages (from jupyter-client<8.0->ipykernel>=4.5.1->ipywidgets->-r requirements.txt (line 5)) (22.2.1)\n",
      "Requirement already satisfied: pywin32>=1.0 in c:\\users\\jason\\anaconda3\\lib\\site-packages (from jupyter-core>=4.6.0->jupyter-client<8.0->ipykernel>=4.5.1->ipywidgets->-r requirements.txt (line 5)) (228)\n",
      "Requirement already satisfied: jsonschema!=2.5.0,>=2.4 in c:\\users\\jason\\anaconda3\\lib\\site-packages (from nbformat>=4.2.0->ipywidgets->-r requirements.txt (line 5)) (3.2.0)\n",
      "Requirement already satisfied: six>=1.11.0 in c:\\users\\jason\\anaconda3\\lib\\site-packages (from jsonschema!=2.5.0,>=2.4->nbformat>=4.2.0->ipywidgets->-r requirements.txt (line 5)) (1.16.0)\n",
      "Requirement already satisfied: pyrsistent>=0.14.0 in c:\\users\\jason\\anaconda3\\lib\\site-packages (from jsonschema!=2.5.0,>=2.4->nbformat>=4.2.0->ipywidgets->-r requirements.txt (line 5)) (0.18.0)\n",
      "Requirement already satisfied: attrs>=17.4.0 in c:\\users\\jason\\anaconda3\\lib\\site-packages (from jsonschema!=2.5.0,>=2.4->nbformat>=4.2.0->ipywidgets->-r requirements.txt (line 5)) (21.2.0)\n",
      "Requirement already satisfied: wcwidth in c:\\users\\jason\\anaconda3\\lib\\site-packages (from prompt-toolkit!=3.0.0,!=3.0.1,<3.1.0,>=2.0.0->IPython->-r requirements.txt (line 4)) (0.2.5)\n",
      "Requirement already satisfied: srsly<3.0.0,>=2.4.1 in c:\\users\\jason\\anaconda3\\lib\\site-packages (from spacy<4->fastai->-r requirements.txt (line 1)) (2.4.2)\n",
      "Requirement already satisfied: thinc<8.1.0,>=8.0.12 in c:\\users\\jason\\anaconda3\\lib\\site-packages (from spacy<4->fastai->-r requirements.txt (line 1)) (8.0.15)\n",
      "Requirement already satisfied: wasabi<1.1.0,>=0.8.1 in c:\\users\\jason\\anaconda3\\lib\\site-packages (from spacy<4->fastai->-r requirements.txt (line 1)) (0.9.0)\n",
      "Requirement already satisfied: jinja2 in c:\\users\\jason\\anaconda3\\lib\\site-packages (from spacy<4->fastai->-r requirements.txt (line 1)) (2.11.3)\n",
      "Requirement already satisfied: spacy-legacy<3.1.0,>=3.0.8 in c:\\users\\jason\\anaconda3\\lib\\site-packages (from spacy<4->fastai->-r requirements.txt (line 1)) (3.0.9)\n",
      "Requirement already satisfied: langcodes<4.0.0,>=3.2.0 in c:\\users\\jason\\anaconda3\\lib\\site-packages (from spacy<4->fastai->-r requirements.txt (line 1)) (3.3.0)\n",
      "Requirement already satisfied: spacy-loggers<2.0.0,>=1.0.0 in c:\\users\\jason\\anaconda3\\lib\\site-packages (from spacy<4->fastai->-r requirements.txt (line 1)) (1.0.1)\n",
      "Requirement already satisfied: catalogue<2.1.0,>=2.0.6 in c:\\users\\jason\\anaconda3\\lib\\site-packages (from spacy<4->fastai->-r requirements.txt (line 1)) (2.0.7)\n",
      "Requirement already satisfied: murmurhash<1.1.0,>=0.28.0 in c:\\users\\jason\\anaconda3\\lib\\site-packages (from spacy<4->fastai->-r requirements.txt (line 1)) (1.0.6)\n",
      "Requirement already satisfied: preshed<3.1.0,>=3.0.2 in c:\\users\\jason\\anaconda3\\lib\\site-packages (from spacy<4->fastai->-r requirements.txt (line 1)) (3.0.6)\n",
      "Requirement already satisfied: cymem<2.1.0,>=2.0.2 in c:\\users\\jason\\anaconda3\\lib\\site-packages (from spacy<4->fastai->-r requirements.txt (line 1)) (2.0.6)\n",
      "Requirement already satisfied: tqdm<5.0.0,>=4.38.0 in c:\\users\\jason\\anaconda3\\lib\\site-packages (from spacy<4->fastai->-r requirements.txt (line 1)) (4.62.3)\n",
      "Requirement already satisfied: blis<0.8.0,>=0.4.0 in c:\\users\\jason\\anaconda3\\lib\\site-packages (from spacy<4->fastai->-r requirements.txt (line 1)) (0.7.7)\n",
      "Requirement already satisfied: pydantic!=1.8,!=1.8.1,<1.9.0,>=1.7.4 in c:\\users\\jason\\anaconda3\\lib\\site-packages (from spacy<4->fastai->-r requirements.txt (line 1)) (1.8.2)\n",
      "Requirement already satisfied: pathy>=0.3.5 in c:\\users\\jason\\anaconda3\\lib\\site-packages (from spacy<4->fastai->-r requirements.txt (line 1)) (0.6.1)\n",
      "Requirement already satisfied: typer<0.5.0,>=0.3.0 in c:\\users\\jason\\anaconda3\\lib\\site-packages (from spacy<4->fastai->-r requirements.txt (line 1)) (0.4.0)\n",
      "Requirement already satisfied: pyparsing>=2.0.2 in c:\\users\\jason\\anaconda3\\lib\\site-packages (from packaging->fastai->-r requirements.txt (line 1)) (3.0.4)\n",
      "Requirement already satisfied: smart-open<6.0.0,>=5.0.0 in c:\\users\\jason\\anaconda3\\lib\\site-packages (from pathy>=0.3.5->spacy<4->fastai->-r requirements.txt (line 1)) (5.2.1)\n",
      "Requirement already satisfied: click<9.0.0,>=7.1.1 in c:\\users\\jason\\anaconda3\\lib\\site-packages (from typer<0.5.0,>=0.3.0->spacy<4->fastai->-r requirements.txt (line 1)) (8.0.3)\n",
      "Requirement already satisfied: notebook>=4.4.1 in c:\\users\\jason\\anaconda3\\lib\\site-packages (from widgetsnbextension~=3.6.0->ipywidgets->-r requirements.txt (line 5)) (6.4.5)\n",
      "Requirement already satisfied: prometheus-client in c:\\users\\jason\\anaconda3\\lib\\site-packages (from notebook>=4.4.1->widgetsnbextension~=3.6.0->ipywidgets->-r requirements.txt (line 5)) (0.11.0)\n",
      "Requirement already satisfied: Send2Trash>=1.5.0 in c:\\users\\jason\\anaconda3\\lib\\site-packages (from notebook>=4.4.1->widgetsnbextension~=3.6.0->ipywidgets->-r requirements.txt (line 5)) (1.8.0)\n",
      "Requirement already satisfied: terminado>=0.8.3 in c:\\users\\jason\\anaconda3\\lib\\site-packages (from notebook>=4.4.1->widgetsnbextension~=3.6.0->ipywidgets->-r requirements.txt (line 5)) (0.9.4)\n",
      "Requirement already satisfied: argon2-cffi in c:\\users\\jason\\anaconda3\\lib\\site-packages (from notebook>=4.4.1->widgetsnbextension~=3.6.0->ipywidgets->-r requirements.txt (line 5)) (20.1.0)\n",
      "Requirement already satisfied: nbconvert in c:\\users\\jason\\anaconda3\\lib\\site-packages (from notebook>=4.4.1->widgetsnbextension~=3.6.0->ipywidgets->-r requirements.txt (line 5)) (6.1.0)\n",
      "Requirement already satisfied: pywinpty>=0.5 in c:\\users\\jason\\anaconda3\\lib\\site-packages (from terminado>=0.8.3->notebook>=4.4.1->widgetsnbextension~=3.6.0->ipywidgets->-r requirements.txt (line 5)) (0.5.7)\n",
      "Requirement already satisfied: cffi>=1.0.0 in c:\\users\\jason\\anaconda3\\lib\\site-packages (from argon2-cffi->notebook>=4.4.1->widgetsnbextension~=3.6.0->ipywidgets->-r requirements.txt (line 5)) (1.14.6)\n",
      "Requirement already satisfied: pycparser in c:\\users\\jason\\anaconda3\\lib\\site-packages (from cffi>=1.0.0->argon2-cffi->notebook>=4.4.1->widgetsnbextension~=3.6.0->ipywidgets->-r requirements.txt (line 5)) (2.20)\n",
      "Requirement already satisfied: MarkupSafe>=0.23 in c:\\users\\jason\\anaconda3\\lib\\site-packages (from jinja2->spacy<4->fastai->-r requirements.txt (line 1)) (1.1.1)\n",
      "Requirement already satisfied: cycler>=0.10 in c:\\users\\jason\\anaconda3\\lib\\site-packages (from matplotlib->fastai->-r requirements.txt (line 1)) (0.10.0)\n",
      "Requirement already satisfied: kiwisolver>=1.0.1 in c:\\users\\jason\\anaconda3\\lib\\site-packages (from matplotlib->fastai->-r requirements.txt (line 1)) (1.3.1)\n",
      "Requirement already satisfied: testpath in c:\\users\\jason\\anaconda3\\lib\\site-packages (from nbconvert->notebook>=4.4.1->widgetsnbextension~=3.6.0->ipywidgets->-r requirements.txt (line 5)) (0.5.0)\n",
      "Requirement already satisfied: mistune<2,>=0.8.1 in c:\\users\\jason\\anaconda3\\lib\\site-packages (from nbconvert->notebook>=4.4.1->widgetsnbextension~=3.6.0->ipywidgets->-r requirements.txt (line 5)) (0.8.4)\n",
      "Requirement already satisfied: pandocfilters>=1.4.1 in c:\\users\\jason\\anaconda3\\lib\\site-packages (from nbconvert->notebook>=4.4.1->widgetsnbextension~=3.6.0->ipywidgets->-r requirements.txt (line 5)) (1.4.3)\n",
      "Requirement already satisfied: entrypoints>=0.2.2 in c:\\users\\jason\\anaconda3\\lib\\site-packages (from nbconvert->notebook>=4.4.1->widgetsnbextension~=3.6.0->ipywidgets->-r requirements.txt (line 5)) (0.3)\n",
      "Requirement already satisfied: jupyterlab-pygments in c:\\users\\jason\\anaconda3\\lib\\site-packages (from nbconvert->notebook>=4.4.1->widgetsnbextension~=3.6.0->ipywidgets->-r requirements.txt (line 5)) (0.1.2)\n",
      "Requirement already satisfied: nbclient<0.6.0,>=0.5.0 in c:\\users\\jason\\anaconda3\\lib\\site-packages (from nbconvert->notebook>=4.4.1->widgetsnbextension~=3.6.0->ipywidgets->-r requirements.txt (line 5)) (0.5.3)\n",
      "Requirement already satisfied: defusedxml in c:\\users\\jason\\anaconda3\\lib\\site-packages (from nbconvert->notebook>=4.4.1->widgetsnbextension~=3.6.0->ipywidgets->-r requirements.txt (line 5)) (0.7.1)\n",
      "Requirement already satisfied: bleach in c:\\users\\jason\\anaconda3\\lib\\site-packages (from nbconvert->notebook>=4.4.1->widgetsnbextension~=3.6.0->ipywidgets->-r requirements.txt (line 5)) (4.0.0)\n",
      "Requirement already satisfied: nest-asyncio in c:\\users\\jason\\anaconda3\\lib\\site-packages (from nbclient<0.6.0,>=0.5.0->nbconvert->notebook>=4.4.1->widgetsnbextension~=3.6.0->ipywidgets->-r requirements.txt (line 5)) (1.5.1)\n",
      "Requirement already satisfied: async-generator in c:\\users\\jason\\anaconda3\\lib\\site-packages (from nbclient<0.6.0,>=0.5.0->nbconvert->notebook>=4.4.1->widgetsnbextension~=3.6.0->ipywidgets->-r requirements.txt (line 5)) (1.10)\n",
      "Requirement already satisfied: webencodings in c:\\users\\jason\\anaconda3\\lib\\site-packages (from bleach->nbconvert->notebook>=4.4.1->widgetsnbextension~=3.6.0->ipywidgets->-r requirements.txt (line 5)) (0.5.1)\n",
      "Requirement already satisfied: pytz>=2017.3 in c:\\users\\jason\\anaconda3\\lib\\site-packages (from pandas->fastai->-r requirements.txt (line 1)) (2021.3)\n",
      "Requirement already satisfied: joblib>=0.11 in c:\\users\\jason\\anaconda3\\lib\\site-packages (from scikit-learn->fastai->-r requirements.txt (line 1)) (1.1.0)\n",
      "Requirement already satisfied: threadpoolctl>=2.0.0 in c:\\users\\jason\\anaconda3\\lib\\site-packages (from scikit-learn->fastai->-r requirements.txt (line 1)) (2.2.0)\n",
      "Collecting asttokens\n",
      "  Using cached asttokens-2.0.5-py2.py3-none-any.whl (20 kB)\n",
      "Collecting pure-eval\n",
      "  Using cached pure_eval-0.2.2-py3-none-any.whl (11 kB)\n",
      "Collecting executing\n",
      "  Using cached executing-0.8.3-py2.py3-none-any.whl (16 kB)\n"
     ]
    }
   ],
   "source": [
    "!pip install -r requirements.txt --upgrade"
   ]
  },
  {
   "cell_type": "code",
   "execution_count": 2,
   "metadata": {
    "collapsed": false,
    "pycharm": {
     "name": "#%%\n"
    }
   },
   "outputs": [
    {
     "name": "stdout",
     "output_type": "stream",
     "text": [
      "2.5.3\n"
     ]
    }
   ],
   "source": [
    "import os\n",
    "import requests\n",
    "import fastai\n",
    "print(fastai.__version__) # should be 2.0.0\n",
    "\n",
    "from fastai.callback.schedule import fine_tune\n",
    "from fastai.data.block import DataBlock, CategoryBlock\n",
    "# from fastai.data.block import CategoryBlock\n",
    "from fastai.data.transforms import get_image_files, parent_label, RandomSplitter\n",
    "from fastai.interpret import ClassificationInterpretation, plot_top_losses\n",
    "from fastai.metrics import error_rate\n",
    "from fastai.vision.augment import aug_transforms, Resize, ResizeMethod, RandomResizedCrop\n",
    "from fastai.vision.data import ImageBlock\n",
    "from fastai.vision.learner import cnn_learner\n",
    "from fastai.vision.utils import download_images, verify_images\n",
    "from fastai.vision.widgets import ImageClassifierCleaner\n",
    "from fastcore.foundation import L\n",
    "from fastcore.xtras import is_listy\n",
    "from fastdownload import download_url\n",
    "from PIL import Image\n",
    "from pathlib import Path\n",
    "from torch import Tensor\n",
    "from torchvision.models import resnet34\n",
    "\n",
    "# import matplotlib as mpl, pkgutil, requests, time\n",
    "# from fastcore.foundation import *\n",
    "# from fastai import *\n",
    "# from fastai.vision import *\n",
    "# from fastai.vision.data import download_images\n",
    "# from concurrent.futures import as_completed\n",
    "# from fastdownload import download_url\n",
    "# from pandas.api.types import CategoricalDtype\n",
    "# from scipy.cluster import hierarchy as hc\n",
    "# from io import StringIO, BytesIO\n",
    "# from urllib.error import  URLError, HTTPError"
   ]
  },
  {
   "cell_type": "code",
   "execution_count": 3,
   "metadata": {
    "jupyter": {
     "outputs_hidden": false
    },
    "pycharm": {
     "name": "#%%\n"
    }
   },
   "outputs": [],
   "source": [
    "key = os.environ.get('AZURE_SEARCH_KEY', '44b6f2e1fdac44dfbf8d84e8d0a20eff')"
   ]
  },
  {
   "cell_type": "code",
   "execution_count": 4,
   "metadata": {
    "jupyter": {
     "outputs_hidden": false
    },
    "pycharm": {
     "name": "#%%\n"
    }
   },
   "outputs": [],
   "source": [
    "def search_images_bing(key, term, min_sz=128, max_images=150):\n",
    "    params = dict(q=term, count=max_images, min_height=min_sz, min_width=min_sz)\n",
    "    search_url = \"https://api.bing.microsoft.com/v7.0/images/search\"\n",
    "    response = requests.get(search_url, headers={\"Ocp-Apim-Subscription-Key\":key}, params=params)\n",
    "    response.raise_for_status()\n",
    "    return L(response.json()['value'])"
   ]
  },
  {
   "cell_type": "code",
   "execution_count": 5,
   "metadata": {
    "jupyter": {
     "outputs_hidden": false
    },
    "pycharm": {
     "name": "#%%\n"
    }
   },
   "outputs": [
    {
     "data": {
      "text/plain": [
       "<function __main__.search_images_bing(key, term, min_sz=128, max_images=150)>"
      ]
     },
     "execution_count": 5,
     "metadata": {},
     "output_type": "execute_result"
    }
   ],
   "source": [
    "search_images_bing"
   ]
  },
  {
   "cell_type": "code",
   "execution_count": 6,
   "metadata": {
    "jupyter": {
     "outputs_hidden": false
    },
    "pycharm": {
     "name": "#%%\n"
    }
   },
   "outputs": [
    {
     "data": {
      "text/plain": [
       "150"
      ]
     },
     "execution_count": 6,
     "metadata": {},
     "output_type": "execute_result"
    }
   ],
   "source": [
    "results = search_images_bing(key, 'koala')\n",
    "ims = results.attrgot('contentUrl')\n",
    "len(ims)"
   ]
  },
  {
   "cell_type": "code",
   "execution_count": 7,
   "metadata": {
    "jupyter": {
     "outputs_hidden": false
    },
    "pycharm": {
     "name": "#%%\n"
    }
   },
   "outputs": [
    {
     "data": {
      "text/html": [
       "\n",
       "<style>\n",
       "    /* Turns off some styling */\n",
       "    progress {\n",
       "        /* gets rid of default border in Firefox and Opera. */\n",
       "        border: none;\n",
       "        /* Needs to be in here for Safari polyfill so background images work as expected. */\n",
       "        background-size: auto;\n",
       "    }\n",
       "    .progress-bar-interrupted, .progress-bar-interrupted::-webkit-progress-bar {\n",
       "        background: #F44336;\n",
       "    }\n",
       "</style>\n"
      ],
      "text/plain": [
       "<IPython.core.display.HTML object>"
      ]
     },
     "metadata": {},
     "output_type": "display_data"
    },
    {
     "data": {
      "text/html": [
       "\n",
       "    <div>\n",
       "      <progress value='376832' class='' max='370372' style='width:300px; height:20px; vertical-align: middle;'></progress>\n",
       "      101.74% [376832/370372 00:00<00:00]\n",
       "    </div>\n",
       "    "
      ],
      "text/plain": [
       "<IPython.core.display.HTML object>"
      ]
     },
     "metadata": {},
     "output_type": "display_data"
    },
    {
     "data": {
      "text/plain": [
       "Path('images/koala.jpg')"
      ]
     },
     "execution_count": 7,
     "metadata": {},
     "output_type": "execute_result"
    }
   ],
   "source": [
    "dest = 'images/koala.jpg'\n",
    "download_url(ims[0], dest)"
   ]
  },
  {
   "cell_type": "code",
   "execution_count": 8,
   "metadata": {
    "jupyter": {
     "outputs_hidden": false
    },
    "pycharm": {
     "name": "#%%\n"
    }
   },
   "outputs": [],
   "source": [
    "im = Image.open(dest)\n",
    "MAX_SIZE = (128, 128)  \n",
    "im.thumbnail(MAX_SIZE)\n",
    "  \n",
    "# creating thumbnail\n",
    "im.save('images/koala_thumb.jpg')\n",
    "im.show()"
   ]
  },
  {
   "cell_type": "code",
   "execution_count": 9,
   "metadata": {
    "jupyter": {
     "outputs_hidden": false
    },
    "pycharm": {
     "name": "#%%\n"
    }
   },
   "outputs": [],
   "source": [
    "animal_types = \"Feathertail Glider\",\"Rufous Bettong\",\"Kultarr\",\"Rusty Antechinus\",\"Agile Antechinus\",\"Silver-headed Antechinus\",\"Black-tailed Antechinus\",\"Fawn Antechinus\",\"Yellow-footed Antechinus\",\"Atherton Antechinus\",\"Cinnamon Antechinus\",\"Swamp Antechinus\",\"Buff-footed Antechinus\",\"Brown Antechinus\",\"Subtropical Antechinus\",\"Dusky Antechinus\",\"Long-nosed Fur Seal\",\"Antarctic fur seal\",\"Australian Fur-seal\",\"subantarctic fur-seal\",\"White-striped Freetail-bat\",\"Chital\",\"Hog Deer\",\"rorquals\",\"Dwarf Minke Whale\",\"Antarctic minke whale\",\"Sei Whale\",\"Bryde's Whale\",\"blue whale\",\"Fin Whale\",\"Arnoux's beaked whale\",\"Tasmanian Bettong\",\"Burrowing Bettong\",\"Brush-tailed Bettong\",\"Northern Bettong\",\"Banteng\",\"European Cattle\",\"Swamp Buffalo\",\"Mountain Pygmy-possum\",\"Dromedary\",\"Dingo\",\"Pygmy Right Whale\",\"Goat\",\"Long-tailed Pygmy Possum\",\"Western Pygmy-possum\",\"Little Pygmy-possum\",\"Eastern Pygmy-possum\",\"Red Deer\",\"Rusa Deer\",\"Sambar\",\"Northern Mastiff Bat\",\"Pig-footed Bandicoot\",\"Large Pied Bat\",\"Gould's Wattled Bat\",\"Chocolate Wattled Bat\",\"Hoary Wattled Bat\",\"Little Pied Bat\",\"White-footed Tree-rat\",\"Brush-tailed Tree-rat\",\"dolphins\",\"Striped Possum\",\"Fallow Deer\",\"Brush-tailed Mulgara\",\"Crest-tailed Mulgara\",\"Little Red Kaluta\",\"Kowari\",\"Chuditch\",\"Northern Quoll\",\"Bindjulang\",\"Eastern Quoll\",\"common dolphin\",\"Bennett's Tree-kangaroo\",\"Lumholtz's Tree-kangaroo\",\"Bare-backed Fruit-bat\",\"dugong\",\"Rufous Spiny Bandicoot\",\"Donkey\",\"Horse\",\"Southern Right Whale\",\"Eastern False Pipistrelle\",\"Cat\",\"pygmy killer whale\",\"Northern Palm Squirrel\",\"Short-finned Pilot Whale\",\"long-finned pilot whale\",\"grampus\",\"Leadbeater's Possum\",\"Lemuroid Ringtail Possum\",\"Dusky Leafnosed-bat\",\"Fawn Leafnosed-bat\",\"Diadem Leaf-nosed Bat\",\"Arnhem Leaf-nosed Bat\",\"Semon's Leaf-nosed Bat\",\"Northern Leaf-nosed Bat\",\"Water-rat\",\"leopard seal\",\"Southern Bottle-nosed Whale\",\"Musky Rat-kangaroo\",\"Golden Bandicoot\",\"Northern Brown Bandicoot\",\"Southern Brown Bandicoot\",\"pygmy sperm whale\",\"Dwarf Sperm Whale\",\"Fraser's dolphin\",\"Hourglass Dolphin\",\"Dusky Dolphin\",\"Spectacled Hare-wallaby\",\"Mala\",\"Eastern Hare-wallaby\",\"Banded Hare-wallaby\",\"Northern Hairy-nosed Wombat\",\"Southern Hairy-nosed Wombat\",\"Forrest's Mouse\",\"Lakeland Downs Mouse\",\"Lesser Stick-nest Rat\",\"Greater Stick-nest Rat\",\"Weddell seal\",\"Brown Hare\",\"Southern Right Whale Dolphin\",\"Crab-eater Seal\",\"Ghost Bat\",\"Northern Blossom-bat\",\"Western Grey Kangaroo\",\"Eastern Grey Kangaroo\",\"Bilby\",\"Lesser Bilby\",\"Broad-toothed Rat\",\"humpback whale\",\"Grassland Melomys\",\"Cape York Melomys\",\"Fawn-footed Melomys\",\"Bramble Cay Melomys\",\"Black-footed Tree-rat\",\"Golden-backed Tree-rat\",\"beaked whales\",\"Andrews' beaked whale\",\"Blainville's Beaked Whale\",\"Ginkgo-toothed Beaked Whale\",\"Gray's Beaked Whale\",\"Strap-toothed Beaked Whale\",\"True's Beaked Whale\",\"Eastern Freetail-bat\",\"Little Bentwing-bat\",\"Northern Bentwing-bat\",\"Southern Bent-winged Bat\",\"Eastern Bent-winged Bat\",\"Southern Elephant Seal\",\"Tube-nosed Bat\",\"House Mouse\",\"Southern Myotis\",\"Numbat\",\"Australian Sea-lion\",\"Wongai Ningaui\",\"Southern Ningaui\",\"Agile Wallaby\",\"Black-striped Wallaby\",\"Tammar Wallaby\",\"Western Brush Wallaby\",\"Parma Wallaby\",\"Whiptail Wallaby\",\"Red-necked Wallaby\",\"Spinifex Hopping-mouse\",\"Short-tailed Hopping-mouse\",\"Northern Hopping-mouse\",\"Fawn Hopping-mouse\",\"Dusky Hopping-mouse\",\"Long-tailed Hopping-mouse\",\"Mitchell's Hopping Mouse\",\"Central Marsupial Mole\",\"Eastern Tube-nosed Bat\",\"Arnhem Long-eared Bat\",\"Eastern Long-eared Bat\",\"Corben's Long-eared Bat\",\"Pallid Long-eared Bat\",\"Lesser Long-eared Bat\",\"Gould's Long-eared Bat\",\"Greater Long-eared Bat\",\"Tasmanian Long-eared Bat\",\"Pygmy Long-eared Bat\",\"eared seals\",\"Ross Seal\",\"Bridled Nailtail Wallaby\",\"Crescent Nailtail Wallaby\",\"Northern Nailtail Wallaby\",\"Australian snubfin dolphin\",\"Killer Whale\",\"Platypus\",\"Rabbit\",\"Antilopine Wallaroo\",\"Black Wallaroo\",\"Common Wallaroo\",\"Red Kangaroo\",\"North-western Free-tailed Bat\",\"Cape York Free-tailed Bat\",\"South-western Free-tailed Bat\",\"Northern Free-tailed Bat\",\"Inland Free-tailed Bat\",\"Little Mastiff-bat\",\"Ride's Free-tailed Bat\",\"seals\",\"Dibbler\",\"melon-headed whale\",\"Western Barred Bandicoot\",\"Desert Bandicoot\",\"Eastern Barred Bandicoot\",\"Greater Glider\",\"Yellow-bellied Glider\",\"Sugar Glider\",\"Sugar Glider\",\"Mahogany Glider\",\"Squirrel Glider\",\"Allied Rock-wallaby\",\"Short-eared Rock-wallaby\",\"Warabi\",\"Cape York Rock-wallaby\",\"Nabarlek\",\"Godman's Rock-wallaby\",\"Herbert's Rock-wallaby\",\"Unadorned Rock-wallaby\",\"Black-footed Rock-wallaby\",\"Mareeba Rock-wallaby\",\"Brush-tailed Rock-wallaby\",\"Proserpine Rock-wallaby\",\"Rothschild's Rock-wallaby\",\"Sharman's Rock-wallaby\",\"Eastern Short-eared Rock-wallaby\",\"Yellow-footed Rock-wallaby\",\"Rock Ringtail Possum\",\"Grey Cuscus\",\"Red-tailed Phascogale\",\"Brush-tailed Phascogale\",\"Koala\",\"Golden-tipped Bat\",\"Sperm Whale\",\"Cape York Pipistrelle\",\"Northern Pipistrelle\",\"Paucident Planigale\",\"Long-tailed Planigale\",\"Common Planigale\",\"Narrow-nosed Planigale\",\"Long-footed Potoroo\",\"Long-nosed Potoroo\",\"Northern Dibbler\",\"Fat-tailed Pseudantechinus\",\"Carpentarian Pseudantechinus\",\"Ningbing Pseudantechinus\",\"Common Ringtail Possum\",\"Green Ringtail Possum\",\"Daintree River Ringtail Possum\",\"Herbert River Ringtail Possum\",\"Ash-grey Mouse\",\"Silky Mouse\",\"Plains Rat\",\"Bolam's Mouse\",\"Kakadu Pebble-mound Mouse\",\"Pebble-mound Mouse\",\"Delicate Mouse\",\"Desert Mouse\",\"Shark Bay Mouse\",\"Smoky Mouse\",\"Gould's Mouse\",\"Eastern Chestnut Mouse\",\"Sandy Inland Mouse\",\"Long-tailed Mouse\",\"Central Pebble-mound Mouse\",\"Western Chestnut Mouse\",\"New Holland Mouse\",\"Hastings River Mouse\",\"North-eastern Mouse\",\"Heath Rat\",\"false killer whale\",\"Black Flying-fox\",\"Spectacled Flying-fox\",\"Grey-headed Flying-fox\",\"Little Red Flying-fox\",\"Dusky Rat\",\"Pacific Rat\",\"Bush Rat\",\"Cape York Rat\",\"Swamp Rat\",\"Brown Rat\",\"Black Rat\",\"Canefield Rat\",\"Pale Field-rat\",\"Long-haired Rat\",\"Eastern Horseshoe-bat\",\"Orange Leaf-nosed Bat\",\"Yellow-bellied Sheathtail-bat\",\"Papuan Sheathtail-bat\",\"Bare-rumped Sheathtail-bat\",\"Tasmanian Devil\",\"Eastern Grey Squirrel\",\"Greater Broad-nosed Bat\",\"Inland Broad-nosed Bat\",\"Little Broad-nosed Bat\",\"Eastern Broad-nosed Bat\",\"Northern Broad-nosed Bat\",\"Hairy-nosed Freetail-bat\",\"Quokka\",\"Chestnut Dunnart\",\"Kakadu Dunnart\",\"Butler's Dunnart\",\"Fat-tailed Dunnart\",\"Little Long-tailed Dunnart\",\"Julia Creek Dunnart\",\"Dusky Dunnart\",\"Gilbert's Dunnart\",\"Hairy-footed Dunnart\",\"White-footed Dunnart\",\"Long-tailed Dunnart\",\"Stripe-faced Dunnart\",\"Common Dunnart\",\"Ooldea Dunnart\",\"Sandhill Dunnart\",\"Red-cheeked Dunnart\",\"Lesser Hairy-footed Dunnart\",\"Indo-pacific Hump-backed Dolphin\",\"Australian humpbacked dolphin\",\"Common Spotted Cuscus\",\"Spotted Dolphin\",\"striped dolphin\",\"Spinner Dolphin\",\"Dwarf Spinner Dolphin\",\"Rough-toothed Dolphin\",\"Pig\",\"Common Blossom-bat\",\"Short-beaked Echidna\",\"Coastal Sheathtail-bat\",\"Common Sheathtail-bat\",\"Hill's Sheathtail-bat\",\"Arnhem Sheathtail-bat\",\"Troughton's Sheathtail-bat\",\"Honey Possum\",\"Tasman Beaked Whale\",\"Thylacine\",\"Tasmanian Pademelon\",\"Red-legged Pademelon\",\"Red-necked Pademelon\",\"Mountain Brushtail Possum\",\"Common Brushtail Possum\",\"Indian Ocean bottlenose dolphin\",\"burrunan dolphin\",\"bottle-nosed dolphin\",\"White-tailed Uromys\",\"Thornton Peak Uromys\",\"Inland Forest Bat\",\"Northern Cave Bat\",\"Large Forest Bat\",\"Yellow-lipped Cave Bat\",\"Finlayson's Cave Bat\",\"Eastern Forest Bat\",\"Southern Forest Bat\",\"Eastern Cave Bat\",\"Little Forest Bat\",\"Common Wombat\",\"Fox\",\"Swamp Wallaby\",\"Scaly-tailed Possum\",\"False Water-rat\",\"beaked whales\",\"Cuvier's Beaked Whale\",\"Common Rock-rat\",\"Arnhem Land Rock-rat\",\"Carpentarian Rock-rat\",\"Central Rock-rat\",\"Large Rock-rat\"\n",
    "path = Path('animal')"
   ]
  },
  {
   "cell_type": "code",
   "execution_count": 10,
   "metadata": {},
   "outputs": [
    {
     "data": {
      "text/plain": [
       "1"
      ]
     },
     "execution_count": 10,
     "metadata": {},
     "output_type": "execute_result"
    }
   ],
   "source": [
    "# Download image library\n",
    "sync_command = f\"aws s3 sync s3://ml-factory-jptest01-prod/animal/ ./animal/\"\n",
    "os.system(sync_command)"
   ]
  },
  {
   "cell_type": "code",
   "execution_count": 11,
   "metadata": {
    "jupyter": {
     "outputs_hidden": false
    },
    "pycharm": {
     "is_executing": true,
     "name": "#%%\n"
    }
   },
   "outputs": [],
   "source": [
    "if not path.exists():\n",
    "    path.mkdir()\n",
    "for o in animal_types:\n",
    "    dest = (path/o)\n",
    "    if not dest.exists():\n",
    "        print(o)\n",
    "        dest.mkdir()\n",
    "        results = search_images_bing(key, f'{o} animal')\n",
    "        download_images(dest, urls=results.attrgot('contentUrl'))"
   ]
  },
  {
   "cell_type": "code",
   "execution_count": null,
   "metadata": {
    "jupyter": {
     "outputs_hidden": false
    },
    "pycharm": {
     "name": "#%%\n"
    }
   },
   "outputs": [],
   "source": [
    "fns = get_image_files(path)\n",
    "fns"
   ]
  },
  {
   "cell_type": "code",
   "execution_count": null,
   "metadata": {
    "jupyter": {
     "outputs_hidden": false
    },
    "pycharm": {
     "name": "#%%\n"
    }
   },
   "outputs": [],
   "source": [
    "failed = verify_images(fns)\n",
    "failed"
   ]
  },
  {
   "cell_type": "code",
   "execution_count": null,
   "metadata": {
    "jupyter": {
     "outputs_hidden": false
    },
    "pycharm": {
     "name": "#%%\n"
    }
   },
   "outputs": [],
   "source": [
    "failed.map(Path.unlink);"
   ]
  },
  {
   "cell_type": "code",
   "execution_count": null,
   "metadata": {},
   "outputs": [],
   "source": [
    "# Upload image library\n",
    "sync_command = f\"aws s3 sync ./animal/ s3://ml-factory-jptest01-prod/animal/ --delete\"\n",
    "os.system(sync_command)"
   ]
  },
  {
   "cell_type": "code",
   "execution_count": null,
   "metadata": {
    "jupyter": {
     "outputs_hidden": false
    },
    "pycharm": {
     "name": "#%%\n"
    }
   },
   "outputs": [],
   "source": [
    "animals = DataBlock(\n",
    "    blocks=(ImageBlock, CategoryBlock),\n",
    "    get_items=get_image_files,\n",
    "    splitter=RandomSplitter(valid_pct=0.2, seed=42),\n",
    "    get_y=parent_label,\n",
    "    item_tfms=Resize(128))"
   ]
  },
  {
   "cell_type": "code",
   "execution_count": null,
   "metadata": {
    "jupyter": {
     "outputs_hidden": false
    },
    "pycharm": {
     "name": "#%%\n"
    }
   },
   "outputs": [],
   "source": [
    "dls = animals.dataloaders(path)"
   ]
  },
  {
   "cell_type": "code",
   "execution_count": null,
   "metadata": {
    "jupyter": {
     "outputs_hidden": false
    },
    "pycharm": {
     "name": "#%%\n"
    }
   },
   "outputs": [],
   "source": [
    "dls.valid.show_batch(max_n=4, nrows=1)"
   ]
  },
  {
   "cell_type": "code",
   "execution_count": null,
   "metadata": {
    "jupyter": {
     "outputs_hidden": false
    },
    "pycharm": {
     "name": "#%%\n"
    }
   },
   "outputs": [],
   "source": [
    "animals = animals.new(item_tfms=Resize(128, ResizeMethod.Squish))\n",
    "dls = animals.dataloaders(path)\n",
    "dls.valid.show_batch(max_n=4, nrows=1)"
   ]
  },
  {
   "cell_type": "code",
   "execution_count": null,
   "metadata": {
    "jupyter": {
     "outputs_hidden": false
    },
    "pycharm": {
     "name": "#%%\n"
    }
   },
   "outputs": [],
   "source": [
    "animals = animals.new(item_tfms=Resize(128, ResizeMethod.Pad, pad_mode='zeros'))\n",
    "dls = animals.dataloaders(path)\n",
    "dls.valid.show_batch(max_n=4, nrows=1)"
   ]
  },
  {
   "cell_type": "code",
   "execution_count": null,
   "metadata": {
    "jupyter": {
     "outputs_hidden": false
    },
    "pycharm": {
     "name": "#%%\n"
    }
   },
   "outputs": [],
   "source": [
    "animals = animals.new(item_tfms=RandomResizedCrop(128, min_scale=0.3))\n",
    "dls = animals.dataloaders(path)\n",
    "dls.train.show_batch(max_n=4, nrows=1, unique=True)"
   ]
  },
  {
   "cell_type": "code",
   "execution_count": null,
   "metadata": {
    "jupyter": {
     "outputs_hidden": false
    },
    "pycharm": {
     "name": "#%%\n"
    }
   },
   "outputs": [],
   "source": [
    "animals = animals.new(item_tfms=Resize(128), batch_tfms=aug_transforms(mult=2))\n",
    "dls = animals.dataloaders(path)\n",
    "dls.train.show_batch(max_n=8, nrows=2, unique=True)"
   ]
  },
  {
   "cell_type": "code",
   "execution_count": null,
   "metadata": {
    "jupyter": {
     "outputs_hidden": false
    },
    "pycharm": {
     "name": "#%%\n"
    }
   },
   "outputs": [],
   "source": [
    "animals = animals.new(\n",
    "    item_tfms=RandomResizedCrop(224, min_scale=0.5),\n",
    "    batch_tfms=aug_transforms())\n",
    "dls = animals.dataloaders(path)"
   ]
  },
  {
   "cell_type": "code",
   "execution_count": null,
   "metadata": {
    "jupyter": {
     "outputs_hidden": false
    },
    "pycharm": {
     "name": "#%%\n"
    }
   },
   "outputs": [],
   "source": [
    "learn = cnn_learner(dls, resnet34, metrics=error_rate)\n",
    "learn.fine_tune(4)"
   ]
  },
  {
   "cell_type": "code",
   "execution_count": null,
   "metadata": {
    "jupyter": {
     "outputs_hidden": false
    },
    "pycharm": {
     "name": "#%%\n"
    }
   },
   "outputs": [],
   "source": [
    "interp = ClassificationInterpretation.from_learner(learn)\n",
    "interp.plot_confusion_matrix()"
   ]
  },
  {
   "cell_type": "code",
   "execution_count": null,
   "metadata": {
    "jupyter": {
     "outputs_hidden": false
    },
    "pycharm": {
     "name": "#%%\n"
    }
   },
   "outputs": [],
   "source": [
    "def plot_top_losses_fix(interp, k, largest=True, **kwargs):\n",
    "        losses,idx = interp.top_losses(k, largest)\n",
    "        if not isinstance(interp.inputs, tuple): interp.inputs = (interp.inputs,)\n",
    "        if isinstance(interp.inputs[0], Tensor): inps = tuple(o[idx] for o in interp.inputs)\n",
    "        else: inps = interp.dl.create_batch(interp.dl.before_batch([tuple(o[i] for o in interp.inputs) for i in idx]))\n",
    "        b = inps + tuple(o[idx] for o in (interp.targs if is_listy(interp.targs) else (interp.targs,)))\n",
    "        x,y,its = interp.dl._pre_show_batch(b, max_n=k)\n",
    "        b_out = inps + tuple(o[idx] for o in (interp.decoded if is_listy(interp.decoded) else (interp.decoded,)))\n",
    "        x1,y1,outs = interp.dl._pre_show_batch(b_out, max_n=k)\n",
    "        if its is not None:\n",
    "            #plot_top_losses(x, y, its, outs.itemgot(slice(len(inps), None)), L(self.preds).itemgot(idx), losses,  **kwargs)\n",
    "            plot_top_losses(x, y, its, outs.itemgot(slice(len(inps), None)), interp.preds[idx], losses,  **kwargs)\n",
    "        #TODO: figure out if this is needed\n",
    "        #its None means that a batch knows how to show itself as a whole, so we pass x, x1\n",
    "        #else: show_results(x, x1, its, ctxs=ctxs, max_n=max_n, **kwargs)"
   ]
  },
  {
   "cell_type": "code",
   "execution_count": null,
   "metadata": {
    "jupyter": {
     "outputs_hidden": false
    },
    "pycharm": {
     "name": "#%%\n"
    }
   },
   "outputs": [],
   "source": [
    "# interp.plot_top_losses(5, nrows=1)\n",
    "plot_top_losses_fix(interp, 10, nrows=2)"
   ]
  },
  {
   "cell_type": "code",
   "execution_count": null,
   "metadata": {
    "jupyter": {
     "outputs_hidden": false
    },
    "pycharm": {
     "name": "#%%\n"
    }
   },
   "outputs": [],
   "source": [
    "cleaner = ImageClassifierCleaner(learn)\n",
    "cleaner"
   ]
  },
  {
   "cell_type": "code",
   "execution_count": null,
   "metadata": {
    "jupyter": {
     "outputs_hidden": false
    },
    "pycharm": {
     "name": "#%%\n"
    }
   },
   "outputs": [],
   "source": [
    "for idx in cleaner.delete(): cleaner.fns[idx].unlink()\n",
    "# for idx,cat in cleaner.change(): shutil.move(str(cleaner.fns[idx]), path/cat)\n",
    "for idx,cat in cleaner.change():\n",
    "    try:\n",
    "        shutil.move(str(cleaner.fns[idx]), path/cat)\n",
    "    except:\n",
    "        new_fname = str(cleaner.fns[idx]).split(\".\")[0] +\"moved.\"+ str(cleaner.fns[idx]).split(\".\")[1]\n",
    "        os.rename(str(cleaner.fns[idx]), new_fname)\n",
    "        shutil.move(new_fname, path/cat)"
   ]
  },
  {
   "cell_type": "code",
   "execution_count": null,
   "metadata": {
    "jupyter": {
     "outputs_hidden": false
    },
    "pycharm": {
     "name": "#%%\n"
    }
   },
   "outputs": [],
   "source": [
    "learn.export()"
   ]
  },
  {
   "cell_type": "code",
   "execution_count": null,
   "metadata": {
    "jupyter": {
     "outputs_hidden": false
    },
    "pycharm": {
     "name": "#%%\n"
    }
   },
   "outputs": [],
   "source": [
    "path = Path()\n",
    "path.ls(file_exts='.pkl')"
   ]
  },
  {
   "cell_type": "code",
   "execution_count": null,
   "metadata": {
    "jupyter": {
     "outputs_hidden": false
    },
    "pycharm": {
     "name": "#%%\n"
    }
   },
   "outputs": [],
   "source": [
    "learn_inf = load_learner(path/'export.pkl')"
   ]
  },
  {
   "cell_type": "code",
   "execution_count": null,
   "metadata": {
    "jupyter": {
     "outputs_hidden": false
    },
    "pycharm": {
     "name": "#%%\n"
    }
   },
   "outputs": [],
   "source": [
    "learn_inf.predict('images/koala.jpg')"
   ]
  },
  {
   "cell_type": "code",
   "execution_count": null,
   "metadata": {
    "jupyter": {
     "outputs_hidden": false
    },
    "pycharm": {
     "name": "#%%\n"
    }
   },
   "outputs": [],
   "source": [
    "learn_inf.dls.vocab"
   ]
  },
  {
   "cell_type": "code",
   "execution_count": null,
   "metadata": {
    "jupyter": {
     "outputs_hidden": false
    },
    "pycharm": {
     "name": "#%%\n"
    }
   },
   "outputs": [],
   "source": [
    "btn_upload = widgets.FileUpload()\n",
    "btn_upload"
   ]
  },
  {
   "cell_type": "code",
   "execution_count": null,
   "metadata": {
    "jupyter": {
     "outputs_hidden": false
    },
    "pycharm": {
     "name": "#%%\n"
    }
   },
   "outputs": [],
   "source": [
    "btn_upload = SimpleNamespace(data = ['images/koala.jpg'])"
   ]
  },
  {
   "cell_type": "code",
   "execution_count": null,
   "metadata": {
    "jupyter": {
     "outputs_hidden": false
    },
    "pycharm": {
     "name": "#%%\n"
    }
   },
   "outputs": [],
   "source": [
    "img = PILImage.create(btn_upload.data[-1])"
   ]
  },
  {
   "cell_type": "code",
   "execution_count": null,
   "metadata": {
    "jupyter": {
     "outputs_hidden": false
    },
    "pycharm": {
     "name": "#%%\n"
    }
   },
   "outputs": [],
   "source": [
    "out_pl = widgets.Output()\n",
    "out_pl.clear_output()\n",
    "with out_pl: display(img.to_thumb(128,128))\n",
    "out_pl"
   ]
  },
  {
   "cell_type": "code",
   "execution_count": null,
   "metadata": {
    "jupyter": {
     "outputs_hidden": false
    },
    "pycharm": {
     "name": "#%%\n"
    }
   },
   "outputs": [],
   "source": [
    "pred,pred_idx,probs = learn_inf.predict(img)"
   ]
  },
  {
   "cell_type": "code",
   "execution_count": null,
   "metadata": {
    "jupyter": {
     "outputs_hidden": false
    },
    "pycharm": {
     "name": "#%%\n"
    }
   },
   "outputs": [],
   "source": [
    "lbl_pred = widgets.Label()\n",
    "lbl_pred.value = f'Prediction: {pred}; Probability: {probs[pred_idx]:.04f}'\n",
    "lbl_pred"
   ]
  },
  {
   "cell_type": "code",
   "execution_count": null,
   "metadata": {
    "jupyter": {
     "outputs_hidden": false
    },
    "pycharm": {
     "name": "#%%\n"
    }
   },
   "outputs": [],
   "source": [
    "btn_run = widgets.Button(description='Classify')\n",
    "btn_run"
   ]
  },
  {
   "cell_type": "code",
   "execution_count": null,
   "metadata": {
    "jupyter": {
     "outputs_hidden": false
    },
    "pycharm": {
     "name": "#%%\n"
    }
   },
   "outputs": [],
   "source": [
    "def on_click_classify(change):\n",
    "    img = PILImage.create(btn_upload.data[-1])\n",
    "    out_pl.clear_output()\n",
    "    with out_pl: display(img.to_thumb(128,128))\n",
    "    pred,pred_idx,probs = learn_inf.predict(img)\n",
    "    lbl_pred.value = f'Prediction: {pred}; Probability: {probs[pred_idx]:.04f}'\n",
    "\n",
    "btn_run.on_click(on_click_classify)"
   ]
  },
  {
   "cell_type": "code",
   "execution_count": null,
   "metadata": {
    "jupyter": {
     "outputs_hidden": false
    },
    "pycharm": {
     "name": "#%%\n"
    }
   },
   "outputs": [],
   "source": [
    "btn_upload = widgets.FileUpload()"
   ]
  },
  {
   "cell_type": "code",
   "execution_count": null,
   "metadata": {
    "jupyter": {
     "outputs_hidden": false
    },
    "pycharm": {
     "name": "#%%\n"
    }
   },
   "outputs": [],
   "source": [
    "VBox([widgets.Label('Select your animal!'),\n",
    "      btn_upload, btn_run, out_pl, lbl_pred])"
   ]
  },
  {
   "cell_type": "code",
   "execution_count": null,
   "metadata": {
    "jupyter": {
     "outputs_hidden": false
    },
    "pycharm": {
     "name": "#%%\n"
    }
   },
   "outputs": [],
   "source": [
    "!pip install voila\n",
    "!jupyter serverextension enable --sys-prefix voila"
   ]
  },
  {
   "cell_type": "code",
   "execution_count": null,
   "metadata": {
    "jupyter": {
     "outputs_hidden": false
    },
    "pycharm": {
     "name": "#%%\n"
    }
   },
   "outputs": [],
   "source": []
  }
 ],
 "metadata": {
  "instance_type": "ml.c5.2xlarge",
  "kernelspec": {
   "display_name": "Python 3 (ipykernel)",
   "language": "python",
   "name": "python3"
  },
  "language_info": {
   "codemirror_mode": {
    "name": "ipython",
    "version": 3
   },
   "file_extension": ".py",
   "mimetype": "text/x-python",
   "name": "python",
   "nbconvert_exporter": "python",
   "pygments_lexer": "ipython3",
   "version": "3.9.7"
  }
 },
 "nbformat": 4,
 "nbformat_minor": 4
}
