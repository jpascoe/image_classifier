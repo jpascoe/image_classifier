{
 "cells": [
  {
   "cell_type": "code",
   "execution_count": null,
   "metadata": {},
   "outputs": [],
   "source": [
    "!python3 -m pip install --upgrade pip"
   ]
  },
  {
   "cell_type": "code",
   "execution_count": null,
   "metadata": {
    "pycharm": {
     "is_executing": true
    }
   },
   "outputs": [],
   "source": [
    "!pip install -r requirements.txt"
   ]
  },
  {
   "cell_type": "code",
   "execution_count": null,
   "metadata": {
    "collapsed": false,
    "jupyter": {
     "outputs_hidden": false
    },
    "pycharm": {
     "name": "#%%\n"
    }
   },
   "outputs": [],
   "source": [
    "# import matplotlib as mpl, pkgutil, requests, time\n",
    "# from fastcore.foundation import *\n",
    "# from fastai import *\n",
    "# from fastai.vision import *\n",
    "# from fastai.vision.data import download_images\n",
    "# from concurrent.futures import as_completed\n",
    "# from fastdownload import download_url\n",
    "# from pandas.api.types import CategoricalDtype\n",
    "# from scipy.cluster import hierarchy as hc\n",
    "# from io import StringIO, BytesIO\n",
    "# from urllib.error import  URLError, HTTPError"
   ]
  },
  {
   "cell_type": "code",
   "execution_count": null,
   "metadata": {
    "collapsed": false,
    "jupyter": {
     "outputs_hidden": false
    },
    "pycharm": {
     "name": "#%%\n"
    }
   },
   "outputs": [],
   "source": [
    "import os\n",
    "\n",
    "key = os.environ.get('AZURE_SEARCH_KEY', 'xxx')"
   ]
  },
  {
   "cell_type": "code",
   "execution_count": null,
   "metadata": {
    "collapsed": false,
    "jupyter": {
     "outputs_hidden": false
    },
    "pycharm": {
     "name": "#%%\n"
    }
   },
   "outputs": [],
   "source": [
    "from fastcore.foundation import L\n",
    "import requests\n",
    "\n",
    "def search_images_bing(key, term, min_sz=128, max_images=150):\n",
    "    params = dict(q=term, count=max_images, min_height=min_sz, min_width=min_sz)\n",
    "    search_url = \"https://api.bing.microsoft.com/v7.0/images/search\"\n",
    "    response = requests.get(search_url, headers={\"Ocp-Apim-Subscription-Key\":key}, params=params)\n",
    "    response.raise_for_status()\n",
    "    return L(response.json()['value'])"
   ]
  },
  {
   "cell_type": "code",
   "execution_count": null,
   "metadata": {
    "collapsed": false,
    "jupyter": {
     "outputs_hidden": false
    },
    "pycharm": {
     "name": "#%%\n"
    }
   },
   "outputs": [],
   "source": [
    "search_images_bing"
   ]
  },
  {
   "cell_type": "code",
   "execution_count": null,
   "metadata": {
    "collapsed": false,
    "jupyter": {
     "outputs_hidden": false
    },
    "pycharm": {
     "name": "#%%\n"
    }
   },
   "outputs": [],
   "source": [
    "results = search_images_bing(key, 'search')\n",
    "ims = results.attrgot('contentUrl')\n",
    "len(ims)"
   ]
  },
  {
   "cell_type": "code",
   "execution_count": null,
   "metadata": {
    "collapsed": false,
    "jupyter": {
     "outputs_hidden": false
    },
    "pycharm": {
     "name": "#%%\n"
    }
   },
   "outputs": [],
   "source": [
    "from fastdownload import download_url\n",
    "\n",
    "dest = 'images/koala.jpg'\n",
    "download_url(ims[0], dest)"
   ]
  },
  {
   "cell_type": "code",
   "execution_count": null,
   "metadata": {
    "collapsed": false,
    "jupyter": {
     "outputs_hidden": false
    },
    "pycharm": {
     "name": "#%%\n"
    }
   },
   "outputs": [],
   "source": [
    "from PIL import Image\n",
    "\n",
    "im = Image.open(dest)\n",
    "im.to_thumb(128,128)"
   ]
  },
  {
   "cell_type": "code",
   "execution_count": null,
   "metadata": {
    "collapsed": false,
    "jupyter": {
     "outputs_hidden": false
    },
    "pycharm": {
     "name": "#%%\n"
    }
   },
   "outputs": [],
   "source": [
    "from pathlib import Path\n",
    "\n",
    "animal_types = \"Feathertail Glider\",\"Rufous Bettong\",\"Kultarr\",\"Rusty Antechinus\",\"Agile Antechinus\",\"Silver-headed Antechinus\",\"Black-tailed Antechinus\",\"Fawn Antechinus\",\"Yellow-footed Antechinus\",\"Atherton Antechinus\",\"Cinnamon Antechinus\",\"Swamp Antechinus\",\"Buff-footed Antechinus\",\"Brown Antechinus\",\"Subtropical Antechinus\",\"Dusky Antechinus\",\"Long-nosed Fur Seal\",\"Antarctic fur seal\",\"Australian Fur-seal\",\"subantarctic fur-seal\",\"White-striped Freetail-bat\",\"Chital\",\"Hog Deer\",\"rorquals\",\"Dwarf Minke Whale\",\"Antarctic minke whale\",\"Sei Whale\",\"Bryde's Whale\",\"blue whale\",\"Fin Whale\",\"Arnoux's beaked whale\",\"Tasmanian Bettong\",\"Burrowing Bettong\",\"Brush-tailed Bettong\",\"Northern Bettong\",\"Banteng\",\"European Cattle\",\"Swamp Buffalo\",\"Mountain Pygmy-possum\",\"Dromedary\",\"Dingo\",\"Pygmy Right Whale\",\"Goat\",\"Long-tailed Pygmy Possum\",\"Western Pygmy-possum\",\"Little Pygmy-possum\",\"Eastern Pygmy-possum\",\"Red Deer\",\"Rusa Deer\",\"Sambar\",\"Northern Mastiff Bat\",\"Pig-footed Bandicoot\",\"Large Pied Bat\",\"Gould's Wattled Bat\",\"Chocolate Wattled Bat\",\"Hoary Wattled Bat\",\"Little Pied Bat\",\"White-footed Tree-rat\",\"Brush-tailed Tree-rat\",\"dolphins\",\"Striped Possum\",\"Fallow Deer\",\"Brush-tailed Mulgara\",\"Crest-tailed Mulgara\",\"Little Red Kaluta\",\"Kowari\",\"Chuditch\",\"Northern Quoll\",\"Bindjulang\",\"Eastern Quoll\",\"common dolphin\",\"Bennett's Tree-kangaroo\",\"Lumholtz's Tree-kangaroo\",\"Bare-backed Fruit-bat\",\"dugong\",\"Rufous Spiny Bandicoot\",\"Donkey\",\"Horse\",\"Southern Right Whale\",\"Eastern False Pipistrelle\",\"Cat\",\"pygmy killer whale\",\"Northern Palm Squirrel\",\"Short-finned Pilot Whale\",\"long-finned pilot whale\",\"grampus\",\"Leadbeater's Possum\",\"Lemuroid Ringtail Possum\",\"Dusky Leafnosed-bat\",\"Fawn Leafnosed-bat\",\"Diadem Leaf-nosed Bat\",\"Arnhem Leaf-nosed Bat\",\"Semon's Leaf-nosed Bat\",\"Northern Leaf-nosed Bat\",\"Water-rat\",\"leopard seal\",\"Southern Bottle-nosed Whale\",\"Musky Rat-kangaroo\",\"Golden Bandicoot\",\"Northern Brown Bandicoot\",\"Southern Brown Bandicoot\",\"pygmy sperm whale\",\"Dwarf Sperm Whale\",\"Fraser's dolphin\",\"Hourglass Dolphin\",\"Dusky Dolphin\",\"Spectacled Hare-wallaby\",\"Mala\",\"Eastern Hare-wallaby\",\"Banded Hare-wallaby\",\"Northern Hairy-nosed Wombat\",\"Southern Hairy-nosed Wombat\",\"Forrest's Mouse\",\"Lakeland Downs Mouse\",\"Lesser Stick-nest Rat\",\"Greater Stick-nest Rat\",\"Weddell seal\",\"Brown Hare\",\"Southern Right Whale Dolphin\",\"Crab-eater Seal\",\"Ghost Bat\",\"Northern Blossom-bat\",\"Western Grey Kangaroo\",\"Eastern Grey Kangaroo\",\"Bilby\",\"Lesser Bilby\",\"Broad-toothed Rat\",\"humpback whale\",\"Grassland Melomys\",\"Cape York Melomys\",\"Fawn-footed Melomys\",\"Bramble Cay Melomys\",\"Black-footed Tree-rat\",\"Golden-backed Tree-rat\",\"beaked whales\",\"Andrews' beaked whale\",\"Blainville's Beaked Whale\",\"Ginkgo-toothed Beaked Whale\",\"Gray's Beaked Whale\",\"Strap-toothed Beaked Whale\",\"True's Beaked Whale\",\"Eastern Freetail-bat\",\"Little Bentwing-bat\",\"Northern Bentwing-bat\",\"Southern Bent-winged Bat\",\"Eastern Bent-winged Bat\",\"Southern Elephant Seal\",\"Tube-nosed Bat\",\"House Mouse\",\"Southern Myotis\",\"Numbat\",\"Australian Sea-lion\",\"Wongai Ningaui\",\"Southern Ningaui\",\"Agile Wallaby\",\"Black-striped Wallaby\",\"Tammar Wallaby\",\"Western Brush Wallaby\",\"Parma Wallaby\",\"Whiptail Wallaby\",\"Red-necked Wallaby\",\"Spinifex Hopping-mouse\",\"Short-tailed Hopping-mouse\",\"Northern Hopping-mouse\",\"Fawn Hopping-mouse\",\"Dusky Hopping-mouse\",\"Long-tailed Hopping-mouse\",\"Mitchell's Hopping Mouse\",\"Central Marsupial Mole\",\"Eastern Tube-nosed Bat\",\"Arnhem Long-eared Bat\",\"Eastern Long-eared Bat\",\"Corben's Long-eared Bat\",\"Pallid Long-eared Bat\",\"Lesser Long-eared Bat\",\"Gould's Long-eared Bat\",\"Greater Long-eared Bat\",\"Tasmanian Long-eared Bat\",\"Pygmy Long-eared Bat\",\"eared seals\",\"Ross Seal\",\"Bridled Nailtail Wallaby\",\"Crescent Nailtail Wallaby\",\"Northern Nailtail Wallaby\",\"Australian snubfin dolphin\",\"Killer Whale\",\"Platypus\",\"Rabbit\",\"Antilopine Wallaroo\",\"Black Wallaroo\",\"Common Wallaroo\",\"Red Kangaroo\",\"North-western Free-tailed Bat\",\"Cape York Free-tailed Bat\",\"South-western Free-tailed Bat\",\"Northern Free-tailed Bat\",\"Inland Free-tailed Bat\",\"Little Mastiff-bat\",\"Ride's Free-tailed Bat\",\"seals\",\"Dibbler\",\"melon-headed whale\",\"Western Barred Bandicoot\",\"Desert Bandicoot\",\"Eastern Barred Bandicoot\",\"Greater Glider\",\"Yellow-bellied Glider\",\"Sugar Glider\",\"Sugar Glider\",\"Mahogany Glider\",\"Squirrel Glider\",\"Allied Rock-wallaby\",\"Short-eared Rock-wallaby\",\"Warabi\",\"Cape York Rock-wallaby\",\"Nabarlek\",\"Godman's Rock-wallaby\",\"Herbert's Rock-wallaby\",\"Unadorned Rock-wallaby\",\"Black-footed Rock-wallaby\",\"Mareeba Rock-wallaby\",\"Brush-tailed Rock-wallaby\",\"Proserpine Rock-wallaby\",\"Rothschild's Rock-wallaby\",\"Sharman's Rock-wallaby\",\"Eastern Short-eared Rock-wallaby\",\"Yellow-footed Rock-wallaby\",\"Rock Ringtail Possum\",\"Grey Cuscus\",\"Red-tailed Phascogale\",\"Brush-tailed Phascogale\",\"Koala\",\"Golden-tipped Bat\",\"Sperm Whale\",\"Cape York Pipistrelle\",\"Northern Pipistrelle\",\"Paucident Planigale\",\"Long-tailed Planigale\",\"Common Planigale\",\"Narrow-nosed Planigale\",\"Long-footed Potoroo\",\"Long-nosed Potoroo\",\"Northern Dibbler\",\"Fat-tailed Pseudantechinus\",\"Carpentarian Pseudantechinus\",\"Ningbing Pseudantechinus\",\"Common Ringtail Possum\",\"Green Ringtail Possum\",\"Daintree River Ringtail Possum\",\"Herbert River Ringtail Possum\",\"Ash-grey Mouse\",\"Silky Mouse\",\"Plains Rat\",\"Bolam's Mouse\",\"Kakadu Pebble-mound Mouse\",\"Pebble-mound Mouse\",\"Delicate Mouse\",\"Desert Mouse\",\"Shark Bay Mouse\",\"Smoky Mouse\",\"Gould's Mouse\",\"Eastern Chestnut Mouse\",\"Sandy Inland Mouse\",\"Long-tailed Mouse\",\"Central Pebble-mound Mouse\",\"Western Chestnut Mouse\",\"New Holland Mouse\",\"Hastings River Mouse\",\"North-eastern Mouse\",\"Heath Rat\",\"false killer whale\",\"Black Flying-fox\",\"Spectacled Flying-fox\",\"Grey-headed Flying-fox\",\"Little Red Flying-fox\",\"Dusky Rat\",\"Pacific Rat\",\"Bush Rat\",\"Cape York Rat\",\"Swamp Rat\",\"Brown Rat\",\"Black Rat\",\"Canefield Rat\",\"Pale Field-rat\",\"Long-haired Rat\",\"Eastern Horseshoe-bat\",\"Orange Leaf-nosed Bat\",\"Yellow-bellied Sheathtail-bat\",\"Papuan Sheathtail-bat\",\"Bare-rumped Sheathtail-bat\",\"Tasmanian Devil\",\"Eastern Grey Squirrel\",\"Greater Broad-nosed Bat\",\"Inland Broad-nosed Bat\",\"Little Broad-nosed Bat\",\"Eastern Broad-nosed Bat\",\"Northern Broad-nosed Bat\",\"Hairy-nosed Freetail-bat\",\"Quokka\",\"Chestnut Dunnart\",\"Kakadu Dunnart\",\"Butler's Dunnart\",\"Fat-tailed Dunnart\",\"Little Long-tailed Dunnart\",\"Julia Creek Dunnart\",\"Dusky Dunnart\",\"Gilbert's Dunnart\",\"Hairy-footed Dunnart\",\"White-footed Dunnart\",\"Long-tailed Dunnart\",\"Stripe-faced Dunnart\",\"Common Dunnart\",\"Ooldea Dunnart\",\"Sandhill Dunnart\",\"Red-cheeked Dunnart\",\"Lesser Hairy-footed Dunnart\",\"Indo-pacific Hump-backed Dolphin\",\"Australian humpbacked dolphin\",\"Common Spotted Cuscus\",\"Spotted Dolphin\",\"striped dolphin\",\"Spinner Dolphin\",\"Dwarf Spinner Dolphin\",\"Rough-toothed Dolphin\",\"Pig\",\"Common Blossom-bat\",\"Short-beaked Echidna\",\"Coastal Sheathtail-bat\",\"Common Sheathtail-bat\",\"Hill's Sheathtail-bat\",\"Arnhem Sheathtail-bat\",\"Troughton's Sheathtail-bat\",\"Honey Possum\",\"Tasman Beaked Whale\",\"Thylacine\",\"Tasmanian Pademelon\",\"Red-legged Pademelon\",\"Red-necked Pademelon\",\"Mountain Brushtail Possum\",\"Common Brushtail Possum\",\"Indian Ocean bottlenose dolphin\",\"burrunan dolphin\",\"bottle-nosed dolphin\",\"White-tailed Uromys\",\"Thornton Peak Uromys\",\"Inland Forest Bat\",\"Northern Cave Bat\",\"Large Forest Bat\",\"Yellow-lipped Cave Bat\",\"Finlayson's Cave Bat\",\"Eastern Forest Bat\",\"Southern Forest Bat\",\"Eastern Cave Bat\",\"Little Forest Bat\",\"Common Wombat\",\"Fox\",\"Swamp Wallaby\",\"Scaly-tailed Possum\",\"False Water-rat\",\"beaked whales\",\"Cuvier's Beaked Whale\",\"Common Rock-rat\",\"Arnhem Land Rock-rat\",\"Carpentarian Rock-rat\",\"Central Rock-rat\",\"Large Rock-rat\"\n",
    "path = Path('animal')"
   ]
  },
  {
   "cell_type": "code",
   "execution_count": null,
   "metadata": {},
   "outputs": [],
   "source": [
    "# Download image library\n",
    "sync_command = f\"aws s3 sync s3://ml-factory-jptest01-prod/animal/ ./animal/\"\n",
    "os.system(sync_command)"
   ]
  },
  {
   "cell_type": "code",
   "execution_count": null,
   "metadata": {
    "collapsed": false,
    "jupyter": {
     "outputs_hidden": false
    },
    "pycharm": {
     "is_executing": true,
     "name": "#%%\n"
    }
   },
   "outputs": [],
   "source": [
    "from fastai.vision.utils import download_images\n",
    "\n",
    "if not path.exists():\n",
    "    path.mkdir()\n",
    "for o in animal_types:\n",
    "    dest = (path/o)\n",
    "    if not dest.exists():\n",
    "        dest.mkdir()\n",
    "        results = search_images_bing(key, f'{o} animal')\n",
    "        download_images(dest, urls=results.attrgot('contentUrl'))"
   ]
  },
  {
   "cell_type": "code",
   "execution_count": null,
   "metadata": {
    "collapsed": false,
    "jupyter": {
     "outputs_hidden": false
    },
    "pycharm": {
     "name": "#%%\n"
    }
   },
   "outputs": [],
   "source": [
    "from fastai.data.transforms import get_image_files\n",
    "\n",
    "fns = get_image_files(path)\n",
    "fns"
   ]
  },
  {
   "cell_type": "code",
   "execution_count": null,
   "metadata": {
    "collapsed": false,
    "jupyter": {
     "outputs_hidden": false
    },
    "pycharm": {
     "name": "#%%\n"
    }
   },
   "outputs": [],
   "source": [
    "from fastai.vision.utils import verify_images\n",
    "\n",
    "failed = verify_images(fns)\n",
    "failed"
   ]
  },
  {
   "cell_type": "code",
   "execution_count": null,
   "metadata": {
    "collapsed": false,
    "jupyter": {
     "outputs_hidden": false
    },
    "pycharm": {
     "name": "#%%\n"
    }
   },
   "outputs": [],
   "source": [
    "failed.map(Path.unlink);"
   ]
  },
  {
   "cell_type": "code",
   "execution_count": null,
   "metadata": {},
   "outputs": [],
   "source": [
    "# Upload image library\n",
    "sync_command = f\"aws s3 sync ./animal/ s3://ml-factory-jptest01-prod/animal/ --delete\"\n",
    "os.system(sync_command)"
   ]
  },
  {
   "cell_type": "code",
   "execution_count": null,
   "metadata": {
    "collapsed": false,
    "jupyter": {
     "outputs_hidden": false
    },
    "pycharm": {
     "name": "#%%\n"
    }
   },
   "outputs": [],
   "source": [
    "from fastai.vision.augment import Resize\n",
    "from fastai.data.transforms import RandomSplitter, parent_label\n",
    "from fastai.vision.data import ImageBlock\n",
    "from fastai.data.block import DataBlock, CategoryBlock\n",
    "\n",
    "animals = DataBlock(\n",
    "    blocks=(ImageBlock, CategoryBlock),\n",
    "    get_items=get_image_files,\n",
    "    splitter=RandomSplitter(valid_pct=0.2, seed=42),\n",
    "    get_y=parent_label,\n",
    "    item_tfms=Resize(128))"
   ]
  },
  {
   "cell_type": "code",
   "execution_count": null,
   "metadata": {
    "collapsed": false,
    "jupyter": {
     "outputs_hidden": false
    },
    "pycharm": {
     "name": "#%%\n"
    }
   },
   "outputs": [],
   "source": [
    "dls = animals.dataloaders(path)"
   ]
  },
  {
   "cell_type": "code",
   "execution_count": null,
   "metadata": {
    "collapsed": false,
    "jupyter": {
     "outputs_hidden": false
    },
    "pycharm": {
     "name": "#%%\n"
    }
   },
   "outputs": [],
   "source": [
    "dls.valid.show_batch(max_n=4, nrows=1)"
   ]
  },
  {
   "cell_type": "code",
   "execution_count": null,
   "metadata": {
    "collapsed": false,
    "jupyter": {
     "outputs_hidden": false
    },
    "pycharm": {
     "name": "#%%\n"
    }
   },
   "outputs": [],
   "source": [
    "from fastai.vision.augment import ResizeMethod\n",
    "\n",
    "animals = animals.new(item_tfms=Resize(128, ResizeMethod.Squish))\n",
    "dls = animals.dataloaders(path)\n",
    "dls.valid.show_batch(max_n=4, nrows=1)"
   ]
  },
  {
   "cell_type": "code",
   "execution_count": null,
   "metadata": {
    "collapsed": false,
    "jupyter": {
     "outputs_hidden": false
    },
    "pycharm": {
     "name": "#%%\n"
    }
   },
   "outputs": [],
   "source": [
    "animals = animals.new(item_tfms=Resize(128, ResizeMethod.Pad, pad_mode='zeros'))\n",
    "dls = animals.dataloaders(path)\n",
    "dls.valid.show_batch(max_n=4, nrows=1)"
   ]
  },
  {
   "cell_type": "code",
   "execution_count": null,
   "metadata": {
    "collapsed": false,
    "jupyter": {
     "outputs_hidden": false
    },
    "pycharm": {
     "name": "#%%\n"
    }
   },
   "outputs": [],
   "source": [
    "from fastai.vision.augment import RandomResizedCrop\n",
    "\n",
    "animals = animals.new(item_tfms=RandomResizedCrop(128, min_scale=0.3))\n",
    "dls = animals.dataloaders(path)\n",
    "dls.train.show_batch(max_n=4, nrows=1, unique=True)"
   ]
  },
  {
   "cell_type": "code",
   "execution_count": null,
   "metadata": {
    "collapsed": false,
    "jupyter": {
     "outputs_hidden": false
    },
    "pycharm": {
     "name": "#%%\n"
    }
   },
   "outputs": [],
   "source": [
    "animals = animals.new(item_tfms=Resize(128), batch_tfms=aug_transforms(mult=2))\n",
    "dls = animals.dataloaders(path)\n",
    "dls.train.show_batch(max_n=8, nrows=2, unique=True)"
   ]
  },
  {
   "cell_type": "code",
   "execution_count": null,
   "metadata": {
    "collapsed": false,
    "jupyter": {
     "outputs_hidden": false
    },
    "pycharm": {
     "name": "#%%\n"
    }
   },
   "outputs": [],
   "source": [
    "from fastai.vision.augment import aug_transforms\n",
    "\n",
    "animals = animals.new(\n",
    "    item_tfms=RandomResizedCrop(224, min_scale=0.5),\n",
    "    batch_tfms=aug_transforms())\n",
    "dls = animals.dataloaders(path)"
   ]
  },
  {
   "cell_type": "code",
   "execution_count": null,
   "metadata": {
    "collapsed": false,
    "jupyter": {
     "outputs_hidden": false
    },
    "pycharm": {
     "name": "#%%\n"
    }
   },
   "outputs": [],
   "source": [
    "from fastai.vision.learner import cnn_learner fine_tune\n",
    "from torchvision.models import resnet34\n",
    "from fastai.metrics import error_rate\n",
    "\n",
    "learn = cnn_learner(dls, resnet34, metrics=error_rate)\n",
    "learn.fine_tune(4)"
   ]
  },
  {
   "cell_type": "code",
   "execution_count": null,
   "metadata": {
    "collapsed": false,
    "jupyter": {
     "outputs_hidden": false
    },
    "pycharm": {
     "name": "#%%\n"
    }
   },
   "outputs": [],
   "source": [
    "interp = ClassificationInterpretation.from_learner(learn)\n",
    "interp.plot_confusion_matrix()"
   ]
  },
  {
   "cell_type": "code",
   "execution_count": null,
   "metadata": {
    "collapsed": false,
    "jupyter": {
     "outputs_hidden": false
    },
    "pycharm": {
     "name": "#%%\n"
    }
   },
   "outputs": [],
   "source": [
    "def plot_top_losses_fix(interp, k, largest=True, **kwargs):\n",
    "        losses,idx = interp.top_losses(k, largest)\n",
    "        if not isinstance(interp.inputs, tuple): interp.inputs = (interp.inputs,)\n",
    "        if isinstance(interp.inputs[0], Tensor): inps = tuple(o[idx] for o in interp.inputs)\n",
    "        else: inps = interp.dl.create_batch(interp.dl.before_batch([tuple(o[i] for o in interp.inputs) for i in idx]))\n",
    "        b = inps + tuple(o[idx] for o in (interp.targs if is_listy(interp.targs) else (interp.targs,)))\n",
    "        x,y,its = interp.dl._pre_show_batch(b, max_n=k)\n",
    "        b_out = inps + tuple(o[idx] for o in (interp.decoded if is_listy(interp.decoded) else (interp.decoded,)))\n",
    "        x1,y1,outs = interp.dl._pre_show_batch(b_out, max_n=k)\n",
    "        if its is not None:\n",
    "            #plot_top_losses(x, y, its, outs.itemgot(slice(len(inps), None)), L(self.preds).itemgot(idx), losses,  **kwargs)\n",
    "            plot_top_losses(x, y, its, outs.itemgot(slice(len(inps), None)), interp.preds[idx], losses,  **kwargs)\n",
    "        #TODO: figure out if this is needed\n",
    "        #its None means that a batch knows how to show itself as a whole, so we pass x, x1\n",
    "        #else: show_results(x, x1, its, ctxs=ctxs, max_n=max_n, **kwargs)"
   ]
  },
  {
   "cell_type": "code",
   "execution_count": null,
   "metadata": {
    "collapsed": false,
    "jupyter": {
     "outputs_hidden": false
    },
    "pycharm": {
     "name": "#%%\n"
    }
   },
   "outputs": [],
   "source": [
    "# interp.plot_top_losses(5, nrows=1)\n",
    "plot_top_losses_fix(interp, 10, nrows=2)"
   ]
  },
  {
   "cell_type": "code",
   "execution_count": null,
   "metadata": {
    "collapsed": false,
    "jupyter": {
     "outputs_hidden": false
    },
    "pycharm": {
     "name": "#%%\n"
    }
   },
   "outputs": [],
   "source": [
    "cleaner = ImageClassifierCleaner(learn)\n",
    "cleaner"
   ]
  },
  {
   "cell_type": "code",
   "execution_count": null,
   "metadata": {
    "collapsed": false,
    "jupyter": {
     "outputs_hidden": false
    },
    "pycharm": {
     "name": "#%%\n"
    }
   },
   "outputs": [],
   "source": [
    "for idx in cleaner.delete(): cleaner.fns[idx].unlink()\n",
    "# for idx,cat in cleaner.change(): shutil.move(str(cleaner.fns[idx]), path/cat)\n",
    "for idx,cat in cleaner.change():\n",
    "    try:\n",
    "        shutil.move(str(cleaner.fns[idx]), path/cat)\n",
    "    except:\n",
    "        new_fname = str(cleaner.fns[idx]).split(\".\")[0] +\"moved.\"+ str(cleaner.fns[idx]).split(\".\")[1]\n",
    "        os.rename(str(cleaner.fns[idx]), new_fname)\n",
    "        shutil.move(new_fname, path/cat)"
   ]
  },
  {
   "cell_type": "code",
   "execution_count": null,
   "metadata": {
    "collapsed": false,
    "jupyter": {
     "outputs_hidden": false
    },
    "pycharm": {
     "name": "#%%\n"
    }
   },
   "outputs": [],
   "source": [
    "learn.export()"
   ]
  },
  {
   "cell_type": "code",
   "execution_count": null,
   "metadata": {
    "collapsed": false,
    "jupyter": {
     "outputs_hidden": false
    },
    "pycharm": {
     "name": "#%%\n"
    }
   },
   "outputs": [],
   "source": [
    "path = Path()\n",
    "path.ls(file_exts='.pkl')"
   ]
  },
  {
   "cell_type": "code",
   "execution_count": null,
   "metadata": {
    "collapsed": false,
    "jupyter": {
     "outputs_hidden": false
    },
    "pycharm": {
     "name": "#%%\n"
    }
   },
   "outputs": [],
   "source": [
    "learn_inf = load_learner(path/'export.pkl')"
   ]
  },
  {
   "cell_type": "code",
   "execution_count": null,
   "metadata": {
    "collapsed": false,
    "jupyter": {
     "outputs_hidden": false
    },
    "pycharm": {
     "name": "#%%\n"
    }
   },
   "outputs": [],
   "source": [
    "learn_inf.predict('images/koala.jpg')"
   ]
  },
  {
   "cell_type": "code",
   "execution_count": null,
   "metadata": {
    "collapsed": false,
    "jupyter": {
     "outputs_hidden": false
    },
    "pycharm": {
     "name": "#%%\n"
    }
   },
   "outputs": [],
   "source": [
    "learn_inf.dls.vocab"
   ]
  },
  {
   "cell_type": "code",
   "execution_count": null,
   "metadata": {
    "collapsed": false,
    "jupyter": {
     "outputs_hidden": false
    },
    "pycharm": {
     "name": "#%%\n"
    }
   },
   "outputs": [],
   "source": [
    "btn_upload = widgets.FileUpload()\n",
    "btn_upload"
   ]
  },
  {
   "cell_type": "code",
   "execution_count": null,
   "metadata": {
    "collapsed": false,
    "jupyter": {
     "outputs_hidden": false
    },
    "pycharm": {
     "name": "#%%\n"
    }
   },
   "outputs": [],
   "source": [
    "btn_upload = SimpleNamespace(data = ['images/koala.jpg'])"
   ]
  },
  {
   "cell_type": "code",
   "execution_count": null,
   "metadata": {
    "collapsed": false,
    "jupyter": {
     "outputs_hidden": false
    },
    "pycharm": {
     "name": "#%%\n"
    }
   },
   "outputs": [],
   "source": [
    "img = PILImage.create(btn_upload.data[-1])"
   ]
  },
  {
   "cell_type": "code",
   "execution_count": null,
   "metadata": {
    "collapsed": false,
    "jupyter": {
     "outputs_hidden": false
    },
    "pycharm": {
     "name": "#%%\n"
    }
   },
   "outputs": [],
   "source": [
    "out_pl = widgets.Output()\n",
    "out_pl.clear_output()\n",
    "with out_pl: display(img.to_thumb(128,128))\n",
    "out_pl"
   ]
  },
  {
   "cell_type": "code",
   "execution_count": null,
   "metadata": {
    "collapsed": false,
    "jupyter": {
     "outputs_hidden": false
    },
    "pycharm": {
     "name": "#%%\n"
    }
   },
   "outputs": [],
   "source": [
    "pred,pred_idx,probs = learn_inf.predict(img)"
   ]
  },
  {
   "cell_type": "code",
   "execution_count": null,
   "metadata": {
    "collapsed": false,
    "jupyter": {
     "outputs_hidden": false
    },
    "pycharm": {
     "name": "#%%\n"
    }
   },
   "outputs": [],
   "source": [
    "lbl_pred = widgets.Label()\n",
    "lbl_pred.value = f'Prediction: {pred}; Probability: {probs[pred_idx]:.04f}'\n",
    "lbl_pred"
   ]
  },
  {
   "cell_type": "code",
   "execution_count": null,
   "metadata": {
    "collapsed": false,
    "jupyter": {
     "outputs_hidden": false
    },
    "pycharm": {
     "name": "#%%\n"
    }
   },
   "outputs": [],
   "source": [
    "btn_run = widgets.Button(description='Classify')\n",
    "btn_run"
   ]
  },
  {
   "cell_type": "code",
   "execution_count": null,
   "metadata": {
    "collapsed": false,
    "jupyter": {
     "outputs_hidden": false
    },
    "pycharm": {
     "name": "#%%\n"
    }
   },
   "outputs": [],
   "source": [
    "def on_click_classify(change):\n",
    "    img = PILImage.create(btn_upload.data[-1])\n",
    "    out_pl.clear_output()\n",
    "    with out_pl: display(img.to_thumb(128,128))\n",
    "    pred,pred_idx,probs = learn_inf.predict(img)\n",
    "    lbl_pred.value = f'Prediction: {pred}; Probability: {probs[pred_idx]:.04f}'\n",
    "\n",
    "btn_run.on_click(on_click_classify)"
   ]
  },
  {
   "cell_type": "code",
   "execution_count": null,
   "metadata": {
    "collapsed": false,
    "jupyter": {
     "outputs_hidden": false
    },
    "pycharm": {
     "name": "#%%\n"
    }
   },
   "outputs": [],
   "source": [
    "btn_upload = widgets.FileUpload()"
   ]
  },
  {
   "cell_type": "code",
   "execution_count": null,
   "metadata": {
    "collapsed": false,
    "jupyter": {
     "outputs_hidden": false
    },
    "pycharm": {
     "name": "#%%\n"
    }
   },
   "outputs": [],
   "source": [
    "VBox([widgets.Label('Select your animal!'),\n",
    "      btn_upload, btn_run, out_pl, lbl_pred])"
   ]
  },
  {
   "cell_type": "code",
   "execution_count": null,
   "metadata": {
    "collapsed": false,
    "jupyter": {
     "outputs_hidden": false
    },
    "pycharm": {
     "name": "#%%\n"
    }
   },
   "outputs": [],
   "source": [
    "!pip install voila\n",
    "!jupyter serverextension enable --sys-prefix voila"
   ]
  },
  {
   "cell_type": "code",
   "execution_count": null,
   "metadata": {
    "collapsed": false,
    "jupyter": {
     "outputs_hidden": false
    },
    "pycharm": {
     "name": "#%%\n"
    }
   },
   "outputs": [],
   "source": []
  }
 ],
 "metadata": {
  "instance_type": "ml.c5.2xlarge",
  "kernelspec": {
   "display_name": "Python 3 (PyTorch 1.8 Python 3.6 CPU Optimized)",
   "language": "python",
   "name": "python3__SAGEMAKER_INTERNAL__arn:aws:sagemaker:ap-southeast-2:452832661640:image/1.8.1-cpu-py36"
  },
  "language_info": {
   "codemirror_mode": {
    "name": "ipython",
    "version": 3
   },
   "file_extension": ".py",
   "mimetype": "text/x-python",
   "name": "python",
   "nbconvert_exporter": "python",
   "pygments_lexer": "ipython3",
   "version": "3.6.13"
  }
 },
 "nbformat": 4,
 "nbformat_minor": 4
}
